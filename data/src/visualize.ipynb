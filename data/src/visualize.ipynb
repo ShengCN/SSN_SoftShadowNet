{
 "cells": [
  {
   "cell_type": "code",
   "execution_count": 1,
   "id": "cf05acc5-0cb2-407e-b0ad-611eb3917141",
   "metadata": {},
   "outputs": [],
   "source": [
    "import h5py \n",
    "import matplotlib.pyplot as plt"
   ]
  },
  {
   "cell_type": "code",
   "execution_count": 3,
   "id": "d5e035f6-4e13-42e7-945e-133500881d79",
   "metadata": {},
   "outputs": [],
   "source": [
    "hdf5_file = 'base/all_base.hdf5'\n",
    "\n",
    "f = h5py.File(hdf5_file,  'r')"
   ]
  },
  {
   "cell_type": "code",
   "execution_count": 6,
   "id": "fab49663-b4da-4fe6-a3d7-ef4ea4ff3bea",
   "metadata": {},
   "outputs": [
    {
     "data": {
      "text/plain": [
       "<KeysViewHDF5 ['t1', 't2', 't3', 'test_model']>"
      ]
     },
     "execution_count": 6,
     "metadata": {},
     "output_type": "execute_result"
    }
   ],
   "source": [
    "f['base']['cache'].keys()"
   ]
  },
  {
   "cell_type": "code",
   "execution_count": null,
   "id": "cb2ed0d5-dfe2-424b-8813-613481c4963c",
   "metadata": {},
   "outputs": [],
   "source": []
  }
 ],
 "metadata": {
  "kernelspec": {
   "display_name": "Python 3 (ipykernel)",
   "language": "python",
   "name": "python3"
  },
  "language_info": {
   "codemirror_mode": {
    "name": "ipython",
    "version": 3
   },
   "file_extension": ".py",
   "mimetype": "text/x-python",
   "name": "python",
   "nbconvert_exporter": "python",
   "pygments_lexer": "ipython3",
   "version": "3.8.12"
  }
 },
 "nbformat": 4,
 "nbformat_minor": 5
}
