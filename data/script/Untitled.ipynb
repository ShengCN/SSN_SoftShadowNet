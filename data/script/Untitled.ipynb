{
 "cells": [
  {
   "cell_type": "code",
   "execution_count": 1,
   "id": "d7de5dcd-831f-4136-9a86-c164c45ba3b4",
   "metadata": {},
   "outputs": [
    {
     "ename": "ModuleNotFoundError",
     "evalue": "No module named 'numbergen'",
     "output_type": "error",
     "traceback": [
      "\u001b[0;31m---------------------------------------------------------------------------\u001b[0m",
      "\u001b[0;31mModuleNotFoundError\u001b[0m                       Traceback (most recent call last)",
      "\u001b[0;32m<ipython-input-1-2dd7ea2f4204>\u001b[0m in \u001b[0;36m<module>\u001b[0;34m\u001b[0m\n\u001b[1;32m      1\u001b[0m \u001b[0;32mimport\u001b[0m \u001b[0mrandom\u001b[0m\u001b[0;34m\u001b[0m\u001b[0;34m\u001b[0m\u001b[0m\n\u001b[1;32m      2\u001b[0m \u001b[0;32mimport\u001b[0m \u001b[0mtime\u001b[0m\u001b[0;34m\u001b[0m\u001b[0;34m\u001b[0m\u001b[0m\n\u001b[0;32m----> 3\u001b[0;31m \u001b[0;32mimport\u001b[0m \u001b[0mnumbergen\u001b[0m \u001b[0;32mas\u001b[0m \u001b[0mng\u001b[0m\u001b[0;34m\u001b[0m\u001b[0;34m\u001b[0m\u001b[0m\n\u001b[0m\u001b[1;32m      4\u001b[0m \u001b[0;32mimport\u001b[0m \u001b[0mimagen\u001b[0m \u001b[0;32mas\u001b[0m \u001b[0mig\u001b[0m\u001b[0;34m\u001b[0m\u001b[0;34m\u001b[0m\u001b[0m\n\u001b[1;32m      5\u001b[0m \u001b[0;32mimport\u001b[0m \u001b[0mnumpy\u001b[0m \u001b[0;32mas\u001b[0m \u001b[0mnp\u001b[0m\u001b[0;34m\u001b[0m\u001b[0;34m\u001b[0m\u001b[0m\n",
      "\u001b[0;31mModuleNotFoundError\u001b[0m: No module named 'numbergen'"
     ]
    }
   ],
   "source": [
    "import random\n",
    "import time \n",
    "import numbergen as ng\n",
    "import imagen as ig\n",
    "import numpy as np\n",
    "import cv2"
   ]
  },
  {
   "cell_type": "code",
   "execution_count": null,
   "id": "7a87313a-5e62-4a08-97fa-d7d13f29d73d",
   "metadata": {},
   "outputs": [],
   "source": [
    "def get_single_light(x, y, x_density=512, y_density=256, scale=3.0, size=0.1)\n",
    "    gs = ig.Composite(operator=np.add,\n",
    "                    generators=[ig.Gaussian(\n",
    "                                size=size,\n",
    "                                scale=scale*(ng.UniformRandom(seed=seed+i+5)+1e-3),\n",
    "                                x=ng.UniformRandom(seed=seed+i+1)-0.5,\n",
    "                                y=((1.0-ng.UniformRandom(seed=seed+i+2) * y_fact) - 0.5),\n",
    "                                aspect_ratio=0.7,\n",
    "                                orientation=np.pi*ng.UniformRandom(seed=seed+i+3),\n",
    "                                ) for i in range(num)],\n",
    "                        position=(0, 0), \n",
    "                        xdensity=512)\n",
    "    \n",
    "    ibl = gs()\n",
    "    return ibl\n",
    "\n",
    "img = get_single_light(0.5,0.5)\n"
   ]
  }
 ],
 "metadata": {
  "kernelspec": {
   "display_name": "Python 3",
   "language": "python",
   "name": "python3"
  },
  "language_info": {
   "codemirror_mode": {
    "name": "ipython",
    "version": 3
   },
   "file_extension": ".py",
   "mimetype": "text/x-python",
   "name": "python",
   "nbconvert_exporter": "python",
   "pygments_lexer": "ipython3",
   "version": "3.8.8"
  }
 },
 "nbformat": 4,
 "nbformat_minor": 5
}
