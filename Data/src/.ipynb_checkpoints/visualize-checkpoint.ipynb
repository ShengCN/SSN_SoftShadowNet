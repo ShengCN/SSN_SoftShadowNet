{
 "cells": [
  {
   "cell_type": "code",
   "execution_count": 54,
   "id": "cf05acc5-0cb2-407e-b0ad-611eb3917141",
   "metadata": {},
   "outputs": [],
   "source": [
    "import h5py \n",
    "import matplotlib.pyplot as plt\n",
    "from tqdm import tqdm"
   ]
  },
  {
   "cell_type": "code",
   "execution_count": 17,
   "id": "7575a4e8-a4fd-442b-85a2-04526ebab5f0",
   "metadata": {},
   "outputs": [],
   "source": [
    "from torchvision import utils\n",
    "import matplotlib.pyplot as plt\n",
    "def show(img, title=''):\n",
    "    print(img.shape, img.min(), img.max())\n",
    "    plt.figure(figsize=(15,10))\n",
    "    plt.imshow(img)\n",
    "    plt.title(title)\n",
    "    plt.show()\n",
    "\n",
    "def show_tensor(tensor,title=''):\n",
    "    img = utils.make_grid(tensor).detach().cpu().numpy().transpose(1,2,0)\n",
    "    show(img, title=title)\n"
   ]
  },
  {
   "cell_type": "code",
   "execution_count": 58,
   "id": "d5e035f6-4e13-42e7-945e-133500881d79",
   "metadata": {},
   "outputs": [],
   "source": [
    "hdf5_file = 'base/all_base.hdf5'\n",
    "\n",
    "f = h5py.File(hdf5_file,  'r')"
   ]
  },
  {
   "cell_type": "code",
   "execution_count": 59,
   "id": "fab49663-b4da-4fe6-a3d7-ef4ea4ff3bea",
   "metadata": {},
   "outputs": [
    {
     "data": {
      "text/plain": [
       "<KeysViewHDF5 ['simulated_combine_female_genesis8_basic_hywavybob_mdscasualdressfullpreset03_CDIBridget8_StandF_pitch_15_rot_0_fov_50.00']>"
      ]
     },
     "execution_count": 59,
     "metadata": {},
     "output_type": "execute_result"
    }
   ],
   "source": [
    "f.keys()"
   ]
  },
  {
   "cell_type": "code",
   "execution_count": 60,
   "id": "cb2ed0d5-dfe2-424b-8813-613481c4963c",
   "metadata": {},
   "outputs": [
    {
     "name": "stdout",
     "output_type": "stream",
     "text": [
      "(512, 512, 64, 16)\n"
     ]
    }
   ],
   "source": [
    "ds = f['simulated_combine_female_genesis8_basic_hywavybob_mdscasualdressfullpreset03_CDIBridget8_StandF_pitch_15_rot_0_fov_50.00']\n",
    "print(ds.shape)"
   ]
  },
  {
   "cell_type": "code",
   "execution_count": 61,
   "id": "5231e29d-ea25-4d54-aa2c-f41db1cfd2c7",
   "metadata": {},
   "outputs": [
    {
     "name": "stderr",
     "output_type": "stream",
     "text": [
      "100%|██████████████████████████████████████████████████████████████████████████████████████████████████████████████████████████| 32/32 [00:04<00:00,  6.54it/s]\n"
     ]
    }
   ],
   "source": [
    "new_ds = np.zeros((512, 512, 32, 8))\n",
    "\n",
    "for i in tqdm(range(32)):\n",
    "    for j in range(8):\n",
    "        new_ds[:, :, i, j] = ds[:, :, 2 * i: 2 * (i+1), 2 * j:2 * (j+1)].sum(axis=(2,3)) / 4.0"
   ]
  },
  {
   "cell_type": "code",
   "execution_count": 40,
   "id": "b16f5cf8-d943-4499-9050-c2854fbc1570",
   "metadata": {},
   "outputs": [],
   "source": [
    "from random_pattern import random_pattern\n",
    "import imagen as ig\n",
    "from __future__ import print_function\n",
    "from ipywidgets import interact, interactive, fixed, interact_manual\n",
    "import ipywidgets as widgets\n",
    "import cv2\n",
    "\n",
    "def normalize(ibl, energy=30.0):\n",
    "    total_energy = np.sum(ibl)\n",
    "    if total_energy < 1e-3:\n",
    "        print('small energy: ', total_energy)\n",
    "        h,w = ibl.shape\n",
    "        return np.zeros((h,w))\n",
    "\n",
    "    return ibl * energy / total_energy\n",
    "\n",
    "def to_dataset(ibl, w, h):\n",
    "    return normalize(cv2.flip(cv2.resize(ibl, (w, h)), 0), 30)"
   ]
  },
  {
   "cell_type": "code",
   "execution_count": 41,
   "id": "cd1c0513-f13e-4bc3-933b-a3632a62b967",
   "metadata": {},
   "outputs": [],
   "source": [
    "ibl_generator = random_pattern()"
   ]
  },
  {
   "cell_type": "code",
   "execution_count": 62,
   "id": "4e29c6c6-0ddc-4680-8175-9a7c817eaa9a",
   "metadata": {},
   "outputs": [
    {
     "data": {
      "application/vnd.jupyter.widget-view+json": {
       "model_id": "5824e67a075b4721a12b2368c9cf7361",
       "version_major": 2,
       "version_minor": 0
      },
      "text/plain": [
       "interactive(children=(FloatSlider(value=0.1, description='size', max=1.0, step=0.001), FloatSlider(value=0.5, …"
      ]
     },
     "metadata": {},
     "output_type": "display_data"
    }
   ],
   "source": [
    "size = 0.1\n",
    "scale = 1.0\n",
    "x = 0.5\n",
    "y = 1.0\n",
    "\n",
    "@interact(size=(0.0, 1.0, 0.01), scale=(0.0, 1.0), x=(0.0, 1.0), y = (0.0, 1.0))\n",
    "def ibl_drag(size=0.1, scale=0.5, x=0.5, y=0.5):\n",
    "    gs = ig.Composite(operator=np.add,\n",
    "                              generators=[ig.Gaussian(\n",
    "                                  size=size,\n",
    "                                  scale=scale,\n",
    "                                  x= x - 0.5,\n",
    "                                  y= y - 0.5,\n",
    "                                  aspect_ratio=1.0,\n",
    "                              ) for i in range(1)],\n",
    "                              xdensity=512)\n",
    "    \n",
    "    ibl = to_dataset(gs(), 32, 8)\n",
    "    shadow = np.tensordot(new_ds,ibl,axes=([2,3], [1,0]))\n",
    "    \n",
    "    show(ibl)\n",
    "    show(shadow)"
   ]
  },
  {
   "cell_type": "code",
   "execution_count": null,
   "id": "3c9db03c-5199-4fda-a13d-580934e77a13",
   "metadata": {},
   "outputs": [],
   "source": []
  }
 ],
 "metadata": {
  "kernelspec": {
   "display_name": "Python 3 (ipykernel)",
   "language": "python",
   "name": "python3"
  },
  "language_info": {
   "codemirror_mode": {
    "name": "ipython",
    "version": 3
   },
   "file_extension": ".py",
   "mimetype": "text/x-python",
   "name": "python",
   "nbconvert_exporter": "python",
   "pygments_lexer": "ipython3",
   "version": "3.8.12"
  }
 },
 "nbformat": 4,
 "nbformat_minor": 5
}
