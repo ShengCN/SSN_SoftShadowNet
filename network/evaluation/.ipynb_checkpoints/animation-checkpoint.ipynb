{
 "cells": [
  {
   "cell_type": "code",
   "execution_count": 6,
   "metadata": {},
   "outputs": [
    {
     "name": "stdout",
     "output_type": "stream",
     "text": [
      "The autoreload extension is already loaded. To reload it, use:\n",
      "  %reload_ext autoreload\n"
     ]
    }
   ],
   "source": [
    "%load_ext autoreload\n",
    "%autoreload 2\n",
    "%matplotlib inline"
   ]
  },
  {
   "cell_type": "code",
   "execution_count": 20,
   "metadata": {},
   "outputs": [],
   "source": [
    "import numpy as np\n",
    "import matplotlib.pyplot as plt\n",
    "import animation as ibl_ani\n",
    "import numbergen as ng\n",
    "import imagen as ig\n",
    "from tqdm import tqdm\n",
    "import matplotlib.animation as animation\n",
    "import os\n",
    "from os.path import join\n",
    "from evaluation import evaluate, mitsuba_render,net_gt, net_render\n",
    "import shutil\n",
    "import imageio \n",
    "import cv2\n",
    "from IPython.display import HTML\n",
    "\n",
    "def get_files(folder):\n",
    "    return [os.path.join(folder, f) for f in os.listdir(folder) if os.path.isfile(os.path.join(folder, f))]\n",
    "\n",
    "def get_folders(folder):\n",
    "    return [os.path.join(folder, f) for f in os.listdir(folder) if os.path.isdir(os.path.join(folder, f))]"
   ]
  },
  {
   "cell_type": "code",
   "execution_count": 8,
   "metadata": {},
   "outputs": [],
   "source": [
    "def show(img, title=''):\n",
    "    plt.figure(figsize=(15,10))\n",
    "    plt.imshow(img)\n",
    "    plt.title(title)\n",
    "    plt.show()"
   ]
  },
  {
   "cell_type": "code",
   "execution_count": 72,
   "metadata": {},
   "outputs": [],
   "source": [
    "test_folder = 'animation'\n",
    "os.makedirs(test_folder, exist_ok=True)\n",
    "\n",
    "animation_list = [join(test_folder, '{:03d}'.format(i)) for i in range(1, 11)]"
   ]
  },
  {
   "cell_type": "code",
   "execution_count": 73,
   "metadata": {},
   "outputs": [],
   "source": [
    "def to_normalized_ibl(ibl_np):\n",
    "    \"\"\" pattern -> normalized_ibl\n",
    "    \"\"\"\n",
    "    ibl_np = ibl_np * 3500.0\n",
    "    ibl_np = cv2.resize(ibl_np, (32,16))\n",
    "    ibl_np[6:,:] = 0.0\n",
    "    return ibl_np \n",
    "\n",
    "def save_ibls(output_folder, num, size, save_ani=False):\n",
    "    animator = ibl_ani.base_ibl_animator(num, size, verbose=False)\n",
    "    max_iter = 720 * 2\n",
    "    \n",
    "    ims = []\n",
    "    fig = plt.figure()\n",
    "    \n",
    "    for i in tqdm(range(max_iter)):\n",
    "        ori = animator.animate_ibl(i, max_iter)\n",
    "        img = to_normalized_ibl(ori)\n",
    "        fpath = join(output_folder, '{:06d}.png'.format(i))\n",
    "        plt.axis('off')\n",
    "        plt.imsave(fpath, img, cmap='gray')\n",
    "        \n",
    "        cv2.normalize(ori, ori, 0.0, 1.0, cv2.NORM_MINMAX)\n",
    "        im = plt.imshow(ori, animated=True, cmap='gray')\n",
    "        ims.append([im])\n",
    "    \n",
    "    if save_ani:\n",
    "        ani = animation.ArtistAnimation(fig, ims, interval=24, blit=True, repeat_delay=1000)\n",
    "        ani.save('{}ibl_ani.mp4'.format(num))\n",
    "\n",
    "def save_uniform_ibls(output_folder, size, num):\n",
    "    def get_ibl(u,v,size, num):\n",
    "        gs = ig.Composite(operator=np.add,\n",
    "                generators=[ig.Gaussian(\n",
    "                            size=size,\n",
    "                            scale=1.0,\n",
    "                            x=(u/512)-0.5,\n",
    "                            y=(1.0 - v/256)-0.5,\n",
    "                            aspect_ratio=1.0,\n",
    "                            ) for i in range(num)],\n",
    "                    xdensity=512)\n",
    "        return gs()\n",
    "    ims = []\n",
    "    fig = plt.figure()\n",
    "    \n",
    "    counter = 0\n",
    "    for i in tqdm(range(0, 512, 8)):\n",
    "        for j in range(0,80,2):\n",
    "            img = to_normalized_ibl(get_ibl(i,j,size, num))\n",
    "            fpath = join(output_folder, '{:06d}.png'.format(counter))\n",
    "            plt.axis('off')\n",
    "            plt.imsave(fpath, img, cmap='gray')\n",
    "            im = plt.imshow(img, cmap='gray')\n",
    "            ims.append([im])\n",
    "            counter += 1\n",
    "        print('finish')\n",
    "\n",
    "    print('finish')\n",
    "    \n",
    "#     ani = animation.ArtistAnimation(fig, ims, interval=24, blit=True, repeat_delay=1000)\n",
    "#     ani.save('{}ibl_ani.mp4'.format(num))\n",
    "#     HTML(ani.to_html5_video())"
   ]
  },
  {
   "cell_type": "code",
   "execution_count": 74,
   "metadata": {},
   "outputs": [
    {
     "name": "stderr",
     "output_type": "stream",
     "text": [
      "\n",
      "  0%|          | 0/1440 [00:00<?, ?it/s]\u001b[A\n",
      "  0%|          | 6/1440 [00:00<00:24, 59.52it/s]\u001b[A\n",
      "  1%|▏         | 18/1440 [00:00<00:20, 70.12it/s]\u001b[A\n",
      "  2%|▏         | 30/1440 [00:00<00:17, 79.76it/s]\u001b[A\n",
      "  3%|▎         | 44/1440 [00:00<00:15, 90.98it/s]\u001b[A\n",
      "  4%|▍         | 57/1440 [00:00<00:13, 99.66it/s]\u001b[A\n",
      "  5%|▍         | 70/1440 [00:00<00:12, 106.93it/s]\u001b[A\n",
      "  6%|▌         | 84/1440 [00:00<00:11, 113.12it/s]\u001b[A\n",
      "  7%|▋         | 97/1440 [00:00<00:11, 116.90it/s]\u001b[A\n",
      "  8%|▊         | 111/1440 [00:00<00:10, 121.62it/s]\u001b[A\n",
      "  9%|▊         | 125/1440 [00:01<00:10, 125.08it/s]\u001b[A\n",
      " 10%|▉         | 139/1440 [00:01<00:10, 127.85it/s]\u001b[A\n",
      " 11%|█         | 152/1440 [00:01<00:10, 127.16it/s]\u001b[A\n",
      " 12%|█▏        | 166/1440 [00:01<00:09, 128.56it/s]\u001b[A\n",
      " 12%|█▎        | 180/1440 [00:01<00:09, 131.28it/s]\u001b[A\n",
      " 13%|█▎        | 194/1440 [00:01<00:09, 132.62it/s]\u001b[A\n",
      " 14%|█▍        | 208/1440 [00:01<00:09, 131.52it/s]\u001b[A\n",
      " 15%|█▌        | 222/1440 [00:01<00:09, 126.16it/s]\u001b[A\n",
      " 16%|█▋        | 235/1440 [00:01<00:09, 126.49it/s]\u001b[A\n",
      " 17%|█▋        | 248/1440 [00:01<00:09, 126.68it/s]\u001b[A\n",
      " 18%|█▊        | 262/1440 [00:02<00:09, 129.27it/s]\u001b[A\n",
      " 19%|█▉        | 276/1440 [00:02<00:08, 130.64it/s]\u001b[A\n",
      " 20%|██        | 290/1440 [00:02<00:08, 130.29it/s]\u001b[A\n",
      " 21%|██        | 304/1440 [00:02<00:08, 130.32it/s]\u001b[A\n",
      " 22%|██▏       | 318/1440 [00:02<00:08, 131.80it/s]\u001b[A\n",
      " 23%|██▎       | 332/1440 [00:02<00:08, 131.67it/s]\u001b[A\n",
      " 24%|██▍       | 346/1440 [00:02<00:08, 132.20it/s]\u001b[A\n",
      " 25%|██▌       | 360/1440 [00:02<00:08, 133.68it/s]\u001b[A\n",
      " 26%|██▌       | 374/1440 [00:02<00:07, 134.38it/s]\u001b[A\n",
      " 27%|██▋       | 388/1440 [00:03<00:07, 135.08it/s]\u001b[A\n",
      " 28%|██▊       | 402/1440 [00:03<00:07, 136.06it/s]\u001b[A\n",
      " 29%|██▉       | 416/1440 [00:03<00:07, 136.42it/s]\u001b[A\n",
      " 30%|██▉       | 430/1440 [00:03<00:07, 134.68it/s]\u001b[A\n",
      " 31%|███       | 444/1440 [00:03<00:07, 136.23it/s]\u001b[A\n",
      " 32%|███▏      | 458/1440 [00:03<00:07, 136.12it/s]\u001b[A\n",
      " 33%|███▎      | 472/1440 [00:03<00:07, 135.34it/s]\u001b[A\n",
      " 34%|███▍      | 486/1440 [00:03<00:07, 135.47it/s]\u001b[A\n",
      " 35%|███▍      | 500/1440 [00:03<00:06, 135.97it/s]\u001b[A\n",
      " 36%|███▌      | 514/1440 [00:03<00:06, 134.36it/s]\u001b[A\n",
      " 37%|███▋      | 528/1440 [00:04<00:06, 134.23it/s]\u001b[A\n",
      " 38%|███▊      | 543/1440 [00:04<00:06, 137.20it/s]\u001b[A\n",
      " 39%|███▊      | 557/1440 [00:04<00:06, 135.66it/s]\u001b[A\n",
      " 40%|███▉      | 571/1440 [00:04<00:06, 136.68it/s]\u001b[A\n",
      " 41%|████      | 585/1440 [00:04<00:06, 136.20it/s]\u001b[A\n",
      " 42%|████▏     | 599/1440 [00:04<00:06, 136.37it/s]\u001b[A\n",
      " 43%|████▎     | 613/1440 [00:04<00:06, 135.23it/s]\u001b[A\n",
      " 44%|████▎     | 627/1440 [00:04<00:05, 135.74it/s]\u001b[A\n",
      " 45%|████▍     | 641/1440 [00:04<00:06, 131.01it/s]\u001b[A\n",
      " 45%|████▌     | 655/1440 [00:05<00:05, 133.02it/s]\u001b[A\n",
      " 46%|████▋     | 669/1440 [00:05<00:05, 132.10it/s]\u001b[A\n",
      " 47%|████▋     | 683/1440 [00:05<00:05, 132.66it/s]\u001b[A\n",
      " 48%|████▊     | 697/1440 [00:05<00:05, 129.77it/s]\u001b[A\n",
      " 49%|████▉     | 711/1440 [00:05<00:05, 130.99it/s]\u001b[A\n",
      " 50%|█████     | 725/1440 [00:05<00:05, 133.23it/s]\u001b[A\n",
      " 51%|█████▏    | 739/1440 [00:05<00:05, 135.10it/s]\u001b[A\n",
      " 52%|█████▏    | 753/1440 [00:05<00:05, 135.17it/s]\u001b[A\n",
      " 53%|█████▎    | 767/1440 [00:05<00:05, 134.40it/s]\u001b[A\n",
      " 54%|█████▍    | 781/1440 [00:05<00:04, 133.11it/s]\u001b[A\n",
      " 55%|█████▌    | 795/1440 [00:06<00:04, 132.45it/s]\u001b[A\n",
      " 56%|█████▌    | 809/1440 [00:06<00:04, 131.31it/s]\u001b[A\n",
      " 57%|█████▋    | 823/1440 [00:06<00:04, 128.43it/s]\u001b[A\n",
      " 58%|█████▊    | 836/1440 [00:06<00:04, 124.53it/s]\u001b[A\n",
      " 59%|█████▉    | 849/1440 [00:06<00:04, 123.89it/s]\u001b[A\n",
      " 60%|█████▉    | 862/1440 [00:06<00:04, 122.39it/s]\u001b[A\n",
      " 61%|██████    | 875/1440 [00:06<00:04, 120.94it/s]\u001b[A\n",
      " 62%|██████▏   | 888/1440 [00:06<00:04, 120.26it/s]\u001b[A\n",
      " 63%|██████▎   | 902/1440 [00:06<00:04, 124.95it/s]\u001b[A\n",
      " 64%|██████▎   | 916/1440 [00:07<00:04, 128.80it/s]\u001b[A\n",
      " 65%|██████▍   | 930/1440 [00:07<00:03, 130.97it/s]\u001b[A\n",
      " 66%|██████▌   | 944/1440 [00:07<00:03, 132.50it/s]\u001b[A\n",
      " 67%|██████▋   | 958/1440 [00:07<00:03, 134.15it/s]\u001b[A\n",
      " 68%|██████▊   | 972/1440 [00:07<00:03, 132.23it/s]\u001b[A\n",
      " 68%|██████▊   | 986/1440 [00:07<00:03, 133.53it/s]\u001b[A\n",
      " 69%|██████▉   | 1000/1440 [00:07<00:03, 134.11it/s]\u001b[A\n",
      " 70%|███████   | 1014/1440 [00:07<00:03, 135.46it/s]\u001b[A\n",
      " 71%|███████▏  | 1028/1440 [00:07<00:03, 135.62it/s]\u001b[A\n",
      " 72%|███████▏  | 1042/1440 [00:07<00:02, 133.29it/s]\u001b[A\n",
      " 73%|███████▎  | 1056/1440 [00:08<00:02, 134.45it/s]\u001b[A\n",
      " 74%|███████▍  | 1070/1440 [00:08<00:02, 131.78it/s]\u001b[A\n",
      " 75%|███████▌  | 1084/1440 [00:08<00:02, 132.88it/s]\u001b[A\n",
      " 76%|███████▋  | 1099/1440 [00:08<00:02, 136.53it/s]\u001b[A\n",
      " 77%|███████▋  | 1113/1440 [00:08<00:02, 135.96it/s]\u001b[A\n",
      " 78%|███████▊  | 1127/1440 [00:08<00:02, 134.64it/s]\u001b[A\n",
      " 79%|███████▉  | 1141/1440 [00:08<00:02, 134.25it/s]\u001b[A\n",
      " 80%|████████  | 1155/1440 [00:08<00:02, 133.24it/s]\u001b[A\n",
      " 81%|████████  | 1169/1440 [00:08<00:02, 134.88it/s]\u001b[A\n",
      " 82%|████████▏ | 1184/1440 [00:09<00:01, 136.48it/s]\u001b[A\n",
      " 83%|████████▎ | 1198/1440 [00:09<00:01, 136.95it/s]\u001b[A\n",
      " 84%|████████▍ | 1212/1440 [00:09<00:01, 136.54it/s]\u001b[A\n",
      " 85%|████████▌ | 1226/1440 [00:09<00:01, 134.74it/s]\u001b[A\n",
      " 86%|████████▌ | 1240/1440 [00:09<00:01, 135.10it/s]\u001b[A\n",
      " 87%|████████▋ | 1254/1440 [00:09<00:01, 134.77it/s]\u001b[A\n",
      " 88%|████████▊ | 1268/1440 [00:09<00:01, 135.07it/s]\u001b[A\n",
      " 89%|████████▉ | 1283/1440 [00:09<00:01, 137.96it/s]\u001b[A\n",
      " 90%|█████████ | 1297/1440 [00:09<00:01, 136.79it/s]\u001b[A\n",
      " 91%|█████████ | 1311/1440 [00:09<00:00, 129.08it/s]\u001b[A\n",
      " 92%|█████████▏| 1325/1440 [00:10<00:00, 129.60it/s]\u001b[A\n",
      " 93%|█████████▎| 1339/1440 [00:10<00:00, 132.21it/s]\u001b[A\n",
      " 94%|█████████▍| 1354/1440 [00:10<00:00, 133.74it/s]\u001b[A\n",
      " 95%|█████████▌| 1369/1440 [00:10<00:00, 136.39it/s]\u001b[A\n",
      " 96%|█████████▌| 1383/1440 [00:10<00:00, 136.67it/s]\u001b[A\n",
      " 97%|█████████▋| 1397/1440 [00:10<00:00, 137.03it/s]\u001b[A\n",
      " 98%|█████████▊| 1411/1440 [00:10<00:00, 135.51it/s]\u001b[A\n",
      " 99%|█████████▉| 1425/1440 [00:10<00:00, 135.76it/s]\u001b[A\n",
      "100%|██████████| 1440/1440 [00:10<00:00, 131.94it/s]\u001b[A\n"
     ]
    },
    {
     "ename": "CalledProcessError",
     "evalue": "Command '['ffmpeg', '-f', 'rawvideo', '-vcodec', 'rawvideo', '-s', '432x288', '-pix_fmt', 'rgba', '-r', '41.666666666666664', '-loglevel', 'error', '-i', 'pipe:', '-vcodec', 'h264', '-pix_fmt', 'yuv420p', '-y', '1ibl_ani.mp4']' returned non-zero exit status 255.",
     "output_type": "error",
     "traceback": [
      "\u001b[0;31m---------------------------------------------------------------------------\u001b[0m",
      "\u001b[0;31mKeyboardInterrupt\u001b[0m                         Traceback (most recent call last)",
      "\u001b[0;32m~/anaconda3/envs/python3/lib/python3.7/site-packages/matplotlib/animation.py\u001b[0m in \u001b[0;36msaving\u001b[0;34m(self, fig, outfile, dpi, *args, **kwargs)\u001b[0m\n\u001b[1;32m    229\u001b[0m         \u001b[0;32mtry\u001b[0m\u001b[0;34m:\u001b[0m\u001b[0;34m\u001b[0m\u001b[0;34m\u001b[0m\u001b[0m\n\u001b[0;32m--> 230\u001b[0;31m             \u001b[0;32myield\u001b[0m \u001b[0mself\u001b[0m\u001b[0;34m\u001b[0m\u001b[0;34m\u001b[0m\u001b[0m\n\u001b[0m\u001b[1;32m    231\u001b[0m         \u001b[0;32mfinally\u001b[0m\u001b[0;34m:\u001b[0m\u001b[0;34m\u001b[0m\u001b[0;34m\u001b[0m\u001b[0m\n",
      "\u001b[0;32m~/anaconda3/envs/python3/lib/python3.7/site-packages/matplotlib/animation.py\u001b[0m in \u001b[0;36msave\u001b[0;34m(self, filename, writer, fps, dpi, codec, bitrate, extra_args, metadata, extra_anim, savefig_kwargs, progress_callback)\u001b[0m\n\u001b[1;32m   1151\u001b[0m                         \u001b[0;31m# TODO: See if turning off blit is really necessary\u001b[0m\u001b[0;34m\u001b[0m\u001b[0;34m\u001b[0m\u001b[0;34m\u001b[0m\u001b[0m\n\u001b[0;32m-> 1152\u001b[0;31m                         \u001b[0manim\u001b[0m\u001b[0;34m.\u001b[0m\u001b[0m_draw_next_frame\u001b[0m\u001b[0;34m(\u001b[0m\u001b[0md\u001b[0m\u001b[0;34m,\u001b[0m \u001b[0mblit\u001b[0m\u001b[0;34m=\u001b[0m\u001b[0;32mFalse\u001b[0m\u001b[0;34m)\u001b[0m\u001b[0;34m\u001b[0m\u001b[0;34m\u001b[0m\u001b[0m\n\u001b[0m\u001b[1;32m   1153\u001b[0m                         \u001b[0;32mif\u001b[0m \u001b[0mprogress_callback\u001b[0m \u001b[0;32mis\u001b[0m \u001b[0;32mnot\u001b[0m \u001b[0;32mNone\u001b[0m\u001b[0;34m:\u001b[0m\u001b[0;34m\u001b[0m\u001b[0;34m\u001b[0m\u001b[0m\n",
      "\u001b[0;32m~/anaconda3/envs/python3/lib/python3.7/site-packages/matplotlib/animation.py\u001b[0m in \u001b[0;36m_draw_next_frame\u001b[0;34m(self, framedata, blit)\u001b[0m\n\u001b[1;32m   1192\u001b[0m         \u001b[0mself\u001b[0m\u001b[0;34m.\u001b[0m\u001b[0m_draw_frame\u001b[0m\u001b[0;34m(\u001b[0m\u001b[0mframedata\u001b[0m\u001b[0;34m)\u001b[0m\u001b[0;34m\u001b[0m\u001b[0;34m\u001b[0m\u001b[0m\n\u001b[0;32m-> 1193\u001b[0;31m         \u001b[0mself\u001b[0m\u001b[0;34m.\u001b[0m\u001b[0m_post_draw\u001b[0m\u001b[0;34m(\u001b[0m\u001b[0mframedata\u001b[0m\u001b[0;34m,\u001b[0m \u001b[0mblit\u001b[0m\u001b[0;34m)\u001b[0m\u001b[0;34m\u001b[0m\u001b[0;34m\u001b[0m\u001b[0m\n\u001b[0m\u001b[1;32m   1194\u001b[0m \u001b[0;34m\u001b[0m\u001b[0m\n",
      "\u001b[0;32m~/anaconda3/envs/python3/lib/python3.7/site-packages/matplotlib/animation.py\u001b[0m in \u001b[0;36m_post_draw\u001b[0;34m(self, framedata, blit)\u001b[0m\n\u001b[1;32m   1217\u001b[0m         \u001b[0;32melse\u001b[0m\u001b[0;34m:\u001b[0m\u001b[0;34m\u001b[0m\u001b[0;34m\u001b[0m\u001b[0m\n\u001b[0;32m-> 1218\u001b[0;31m             \u001b[0mself\u001b[0m\u001b[0;34m.\u001b[0m\u001b[0m_fig\u001b[0m\u001b[0;34m.\u001b[0m\u001b[0mcanvas\u001b[0m\u001b[0;34m.\u001b[0m\u001b[0mdraw_idle\u001b[0m\u001b[0;34m(\u001b[0m\u001b[0;34m)\u001b[0m\u001b[0;34m\u001b[0m\u001b[0;34m\u001b[0m\u001b[0m\n\u001b[0m\u001b[1;32m   1219\u001b[0m \u001b[0;34m\u001b[0m\u001b[0m\n",
      "\u001b[0;32m~/anaconda3/envs/python3/lib/python3.7/site-packages/matplotlib/backend_bases.py\u001b[0m in \u001b[0;36mdraw_idle\u001b[0;34m(self, *args, **kwargs)\u001b[0m\n\u001b[1;32m   1915\u001b[0m             \u001b[0;32mwith\u001b[0m \u001b[0mself\u001b[0m\u001b[0;34m.\u001b[0m\u001b[0m_idle_draw_cntx\u001b[0m\u001b[0;34m(\u001b[0m\u001b[0;34m)\u001b[0m\u001b[0;34m:\u001b[0m\u001b[0;34m\u001b[0m\u001b[0;34m\u001b[0m\u001b[0m\n\u001b[0;32m-> 1916\u001b[0;31m                 \u001b[0mself\u001b[0m\u001b[0;34m.\u001b[0m\u001b[0mdraw\u001b[0m\u001b[0;34m(\u001b[0m\u001b[0;34m*\u001b[0m\u001b[0margs\u001b[0m\u001b[0;34m,\u001b[0m \u001b[0;34m**\u001b[0m\u001b[0mkwargs\u001b[0m\u001b[0;34m)\u001b[0m\u001b[0;34m\u001b[0m\u001b[0;34m\u001b[0m\u001b[0m\n\u001b[0m\u001b[1;32m   1917\u001b[0m \u001b[0;34m\u001b[0m\u001b[0m\n",
      "\u001b[0;32m~/anaconda3/envs/python3/lib/python3.7/site-packages/matplotlib/backends/backend_agg.py\u001b[0m in \u001b[0;36mdraw\u001b[0;34m(self)\u001b[0m\n\u001b[1;32m    387\u001b[0m         \u001b[0;32mwith\u001b[0m \u001b[0mRendererAgg\u001b[0m\u001b[0;34m.\u001b[0m\u001b[0mlock\u001b[0m\u001b[0;34m:\u001b[0m\u001b[0;34m\u001b[0m\u001b[0;34m\u001b[0m\u001b[0m\n\u001b[0;32m--> 388\u001b[0;31m             \u001b[0mself\u001b[0m\u001b[0;34m.\u001b[0m\u001b[0mfigure\u001b[0m\u001b[0;34m.\u001b[0m\u001b[0mdraw\u001b[0m\u001b[0;34m(\u001b[0m\u001b[0mself\u001b[0m\u001b[0;34m.\u001b[0m\u001b[0mrenderer\u001b[0m\u001b[0;34m)\u001b[0m\u001b[0;34m\u001b[0m\u001b[0;34m\u001b[0m\u001b[0m\n\u001b[0m\u001b[1;32m    389\u001b[0m             \u001b[0;31m# A GUI class may be need to update a window using this draw, so\u001b[0m\u001b[0;34m\u001b[0m\u001b[0;34m\u001b[0m\u001b[0;34m\u001b[0m\u001b[0m\n",
      "\u001b[0;32m~/anaconda3/envs/python3/lib/python3.7/site-packages/matplotlib/artist.py\u001b[0m in \u001b[0;36mdraw_wrapper\u001b[0;34m(artist, renderer, *args, **kwargs)\u001b[0m\n\u001b[1;32m     37\u001b[0m \u001b[0;34m\u001b[0m\u001b[0m\n\u001b[0;32m---> 38\u001b[0;31m             \u001b[0;32mreturn\u001b[0m \u001b[0mdraw\u001b[0m\u001b[0;34m(\u001b[0m\u001b[0martist\u001b[0m\u001b[0;34m,\u001b[0m \u001b[0mrenderer\u001b[0m\u001b[0;34m,\u001b[0m \u001b[0;34m*\u001b[0m\u001b[0margs\u001b[0m\u001b[0;34m,\u001b[0m \u001b[0;34m**\u001b[0m\u001b[0mkwargs\u001b[0m\u001b[0;34m)\u001b[0m\u001b[0;34m\u001b[0m\u001b[0;34m\u001b[0m\u001b[0m\n\u001b[0m\u001b[1;32m     39\u001b[0m         \u001b[0;32mfinally\u001b[0m\u001b[0;34m:\u001b[0m\u001b[0;34m\u001b[0m\u001b[0;34m\u001b[0m\u001b[0m\n",
      "\u001b[0;32m~/anaconda3/envs/python3/lib/python3.7/site-packages/matplotlib/figure.py\u001b[0m in \u001b[0;36mdraw\u001b[0;34m(self, renderer)\u001b[0m\n\u001b[1;32m   1708\u001b[0m             mimage._draw_list_compositing_images(\n\u001b[0;32m-> 1709\u001b[0;31m                 renderer, self, artists, self.suppressComposite)\n\u001b[0m\u001b[1;32m   1710\u001b[0m \u001b[0;34m\u001b[0m\u001b[0m\n",
      "\u001b[0;32m~/anaconda3/envs/python3/lib/python3.7/site-packages/matplotlib/image.py\u001b[0m in \u001b[0;36m_draw_list_compositing_images\u001b[0;34m(renderer, parent, artists, suppress_composite)\u001b[0m\n\u001b[1;32m    134\u001b[0m         \u001b[0;32mfor\u001b[0m \u001b[0ma\u001b[0m \u001b[0;32min\u001b[0m \u001b[0martists\u001b[0m\u001b[0;34m:\u001b[0m\u001b[0;34m\u001b[0m\u001b[0;34m\u001b[0m\u001b[0m\n\u001b[0;32m--> 135\u001b[0;31m             \u001b[0ma\u001b[0m\u001b[0;34m.\u001b[0m\u001b[0mdraw\u001b[0m\u001b[0;34m(\u001b[0m\u001b[0mrenderer\u001b[0m\u001b[0;34m)\u001b[0m\u001b[0;34m\u001b[0m\u001b[0;34m\u001b[0m\u001b[0m\n\u001b[0m\u001b[1;32m    136\u001b[0m     \u001b[0;32melse\u001b[0m\u001b[0;34m:\u001b[0m\u001b[0;34m\u001b[0m\u001b[0;34m\u001b[0m\u001b[0m\n",
      "\u001b[0;32m~/anaconda3/envs/python3/lib/python3.7/site-packages/matplotlib/artist.py\u001b[0m in \u001b[0;36mdraw_wrapper\u001b[0;34m(artist, renderer, *args, **kwargs)\u001b[0m\n\u001b[1;32m     37\u001b[0m \u001b[0;34m\u001b[0m\u001b[0m\n\u001b[0;32m---> 38\u001b[0;31m             \u001b[0;32mreturn\u001b[0m \u001b[0mdraw\u001b[0m\u001b[0;34m(\u001b[0m\u001b[0martist\u001b[0m\u001b[0;34m,\u001b[0m \u001b[0mrenderer\u001b[0m\u001b[0;34m,\u001b[0m \u001b[0;34m*\u001b[0m\u001b[0margs\u001b[0m\u001b[0;34m,\u001b[0m \u001b[0;34m**\u001b[0m\u001b[0mkwargs\u001b[0m\u001b[0;34m)\u001b[0m\u001b[0;34m\u001b[0m\u001b[0;34m\u001b[0m\u001b[0m\n\u001b[0m\u001b[1;32m     39\u001b[0m         \u001b[0;32mfinally\u001b[0m\u001b[0;34m:\u001b[0m\u001b[0;34m\u001b[0m\u001b[0;34m\u001b[0m\u001b[0m\n",
      "\u001b[0;32m~/anaconda3/envs/python3/lib/python3.7/site-packages/matplotlib/axes/_base.py\u001b[0m in \u001b[0;36mdraw\u001b[0;34m(self, renderer, inframe)\u001b[0m\n\u001b[1;32m   2646\u001b[0m \u001b[0;34m\u001b[0m\u001b[0m\n\u001b[0;32m-> 2647\u001b[0;31m         \u001b[0mmimage\u001b[0m\u001b[0;34m.\u001b[0m\u001b[0m_draw_list_compositing_images\u001b[0m\u001b[0;34m(\u001b[0m\u001b[0mrenderer\u001b[0m\u001b[0;34m,\u001b[0m \u001b[0mself\u001b[0m\u001b[0;34m,\u001b[0m \u001b[0martists\u001b[0m\u001b[0;34m)\u001b[0m\u001b[0;34m\u001b[0m\u001b[0;34m\u001b[0m\u001b[0m\n\u001b[0m\u001b[1;32m   2648\u001b[0m \u001b[0;34m\u001b[0m\u001b[0m\n",
      "\u001b[0;32m~/anaconda3/envs/python3/lib/python3.7/site-packages/matplotlib/image.py\u001b[0m in \u001b[0;36m_draw_list_compositing_images\u001b[0;34m(renderer, parent, artists, suppress_composite)\u001b[0m\n\u001b[1;32m    134\u001b[0m         \u001b[0;32mfor\u001b[0m \u001b[0ma\u001b[0m \u001b[0;32min\u001b[0m \u001b[0martists\u001b[0m\u001b[0;34m:\u001b[0m\u001b[0;34m\u001b[0m\u001b[0;34m\u001b[0m\u001b[0m\n\u001b[0;32m--> 135\u001b[0;31m             \u001b[0ma\u001b[0m\u001b[0;34m.\u001b[0m\u001b[0mdraw\u001b[0m\u001b[0;34m(\u001b[0m\u001b[0mrenderer\u001b[0m\u001b[0;34m)\u001b[0m\u001b[0;34m\u001b[0m\u001b[0;34m\u001b[0m\u001b[0m\n\u001b[0m\u001b[1;32m    136\u001b[0m     \u001b[0;32melse\u001b[0m\u001b[0;34m:\u001b[0m\u001b[0;34m\u001b[0m\u001b[0;34m\u001b[0m\u001b[0m\n",
      "\u001b[0;32m~/anaconda3/envs/python3/lib/python3.7/site-packages/matplotlib/artist.py\u001b[0m in \u001b[0;36mdraw_wrapper\u001b[0;34m(artist, renderer, *args, **kwargs)\u001b[0m\n\u001b[1;32m     37\u001b[0m \u001b[0;34m\u001b[0m\u001b[0m\n\u001b[0;32m---> 38\u001b[0;31m             \u001b[0;32mreturn\u001b[0m \u001b[0mdraw\u001b[0m\u001b[0;34m(\u001b[0m\u001b[0martist\u001b[0m\u001b[0;34m,\u001b[0m \u001b[0mrenderer\u001b[0m\u001b[0;34m,\u001b[0m \u001b[0;34m*\u001b[0m\u001b[0margs\u001b[0m\u001b[0;34m,\u001b[0m \u001b[0;34m**\u001b[0m\u001b[0mkwargs\u001b[0m\u001b[0;34m)\u001b[0m\u001b[0;34m\u001b[0m\u001b[0;34m\u001b[0m\u001b[0m\n\u001b[0m\u001b[1;32m     39\u001b[0m         \u001b[0;32mfinally\u001b[0m\u001b[0;34m:\u001b[0m\u001b[0;34m\u001b[0m\u001b[0;34m\u001b[0m\u001b[0m\n",
      "\u001b[0;32m~/anaconda3/envs/python3/lib/python3.7/site-packages/matplotlib/image.py\u001b[0m in \u001b[0;36mdraw\u001b[0;34m(self, renderer, *args, **kwargs)\u001b[0m\n\u001b[1;32m    618\u001b[0m             im, l, b, trans = self.make_image(\n\u001b[0;32m--> 619\u001b[0;31m                 renderer, renderer.get_image_magnification())\n\u001b[0m\u001b[1;32m    620\u001b[0m             \u001b[0;32mif\u001b[0m \u001b[0mim\u001b[0m \u001b[0;32mis\u001b[0m \u001b[0;32mnot\u001b[0m \u001b[0;32mNone\u001b[0m\u001b[0;34m:\u001b[0m\u001b[0;34m\u001b[0m\u001b[0;34m\u001b[0m\u001b[0m\n",
      "\u001b[0;32m~/anaconda3/envs/python3/lib/python3.7/site-packages/matplotlib/image.py\u001b[0m in \u001b[0;36mmake_image\u001b[0;34m(self, renderer, magnification, unsampled)\u001b[0m\n\u001b[1;32m    880\u001b[0m             \u001b[0mself\u001b[0m\u001b[0;34m.\u001b[0m\u001b[0m_A\u001b[0m\u001b[0;34m,\u001b[0m \u001b[0mbbox\u001b[0m\u001b[0;34m,\u001b[0m \u001b[0mtransformed_bbox\u001b[0m\u001b[0;34m,\u001b[0m \u001b[0mself\u001b[0m\u001b[0;34m.\u001b[0m\u001b[0maxes\u001b[0m\u001b[0;34m.\u001b[0m\u001b[0mbbox\u001b[0m\u001b[0;34m,\u001b[0m \u001b[0mmagnification\u001b[0m\u001b[0;34m,\u001b[0m\u001b[0;34m\u001b[0m\u001b[0;34m\u001b[0m\u001b[0m\n\u001b[0;32m--> 881\u001b[0;31m             unsampled=unsampled)\n\u001b[0m\u001b[1;32m    882\u001b[0m \u001b[0;34m\u001b[0m\u001b[0m\n",
      "\u001b[0;32m~/anaconda3/envs/python3/lib/python3.7/site-packages/matplotlib/image.py\u001b[0m in \u001b[0;36m_make_image\u001b[0;34m(self, A, in_bbox, out_bbox, clip_bbox, magnification, unsampled, round_to_pixel_border)\u001b[0m\n\u001b[1;32m    430\u001b[0m                                 \u001b[0mself\u001b[0m\u001b[0;34m.\u001b[0m\u001b[0mget_filternorm\u001b[0m\u001b[0;34m(\u001b[0m\u001b[0;34m)\u001b[0m\u001b[0;34m,\u001b[0m\u001b[0;34m\u001b[0m\u001b[0;34m\u001b[0m\u001b[0m\n\u001b[0;32m--> 431\u001b[0;31m                                 self.get_filterrad())\n\u001b[0m\u001b[1;32m    432\u001b[0m \u001b[0;34m\u001b[0m\u001b[0m\n",
      "\u001b[0;31mKeyboardInterrupt\u001b[0m: ",
      "\nDuring handling of the above exception, another exception occurred:\n",
      "\u001b[0;31mCalledProcessError\u001b[0m                        Traceback (most recent call last)",
      "\u001b[0;32m<ipython-input-74-eceb93b70d3c>\u001b[0m in \u001b[0;36m<module>\u001b[0;34m\u001b[0m\n\u001b[1;32m      6\u001b[0m     \u001b[0mfolder_name\u001b[0m \u001b[0;34m=\u001b[0m \u001b[0mos\u001b[0m\u001b[0;34m.\u001b[0m\u001b[0mpath\u001b[0m\u001b[0;34m.\u001b[0m\u001b[0mbasename\u001b[0m\u001b[0;34m(\u001b[0m\u001b[0mfolder\u001b[0m\u001b[0;34m)\u001b[0m\u001b[0;34m\u001b[0m\u001b[0;34m\u001b[0m\u001b[0m\n\u001b[1;32m      7\u001b[0m     \u001b[0mnum\u001b[0m \u001b[0;34m=\u001b[0m \u001b[0mint\u001b[0m\u001b[0;34m(\u001b[0m\u001b[0mfolder_name\u001b[0m\u001b[0;34m)\u001b[0m\u001b[0;34m\u001b[0m\u001b[0;34m\u001b[0m\u001b[0m\n\u001b[0;32m----> 8\u001b[0;31m     \u001b[0mani\u001b[0m \u001b[0;34m=\u001b[0m \u001b[0msave_ibls\u001b[0m\u001b[0;34m(\u001b[0m\u001b[0mfolder\u001b[0m\u001b[0;34m,\u001b[0m \u001b[0mnum\u001b[0m\u001b[0;34m,\u001b[0m \u001b[0;36m0.01\u001b[0m\u001b[0;34m)\u001b[0m\u001b[0;34m\u001b[0m\u001b[0;34m\u001b[0m\u001b[0m\n\u001b[0m",
      "\u001b[0;32m<ipython-input-73-3b8b1c2e7a10>\u001b[0m in \u001b[0;36msave_ibls\u001b[0;34m(output_folder, num, size)\u001b[0m\n\u001b[1;32m     26\u001b[0m \u001b[0;34m\u001b[0m\u001b[0m\n\u001b[1;32m     27\u001b[0m     \u001b[0mani\u001b[0m \u001b[0;34m=\u001b[0m \u001b[0manimation\u001b[0m\u001b[0;34m.\u001b[0m\u001b[0mArtistAnimation\u001b[0m\u001b[0;34m(\u001b[0m\u001b[0mfig\u001b[0m\u001b[0;34m,\u001b[0m \u001b[0mims\u001b[0m\u001b[0;34m,\u001b[0m \u001b[0minterval\u001b[0m\u001b[0;34m=\u001b[0m\u001b[0;36m24\u001b[0m\u001b[0;34m,\u001b[0m \u001b[0mblit\u001b[0m\u001b[0;34m=\u001b[0m\u001b[0;32mTrue\u001b[0m\u001b[0;34m,\u001b[0m \u001b[0mrepeat_delay\u001b[0m\u001b[0;34m=\u001b[0m\u001b[0;36m1000\u001b[0m\u001b[0;34m)\u001b[0m\u001b[0;34m\u001b[0m\u001b[0;34m\u001b[0m\u001b[0m\n\u001b[0;32m---> 28\u001b[0;31m     \u001b[0mani\u001b[0m\u001b[0;34m.\u001b[0m\u001b[0msave\u001b[0m\u001b[0;34m(\u001b[0m\u001b[0;34m'{}ibl_ani.mp4'\u001b[0m\u001b[0;34m.\u001b[0m\u001b[0mformat\u001b[0m\u001b[0;34m(\u001b[0m\u001b[0mnum\u001b[0m\u001b[0;34m)\u001b[0m\u001b[0;34m)\u001b[0m\u001b[0;34m\u001b[0m\u001b[0;34m\u001b[0m\u001b[0m\n\u001b[0m\u001b[1;32m     29\u001b[0m     \u001b[0;32mreturn\u001b[0m \u001b[0mani\u001b[0m\u001b[0;34m\u001b[0m\u001b[0;34m\u001b[0m\u001b[0m\n\u001b[1;32m     30\u001b[0m \u001b[0;34m\u001b[0m\u001b[0m\n",
      "\u001b[0;32m~/anaconda3/envs/python3/lib/python3.7/site-packages/matplotlib/animation.py\u001b[0m in \u001b[0;36msave\u001b[0;34m(self, filename, writer, fps, dpi, codec, bitrate, extra_args, metadata, extra_anim, savefig_kwargs, progress_callback)\u001b[0m\n\u001b[1;32m   1154\u001b[0m                             \u001b[0mprogress_callback\u001b[0m\u001b[0;34m(\u001b[0m\u001b[0mframe_number\u001b[0m\u001b[0;34m,\u001b[0m \u001b[0mtotal_frames\u001b[0m\u001b[0;34m)\u001b[0m\u001b[0;34m\u001b[0m\u001b[0;34m\u001b[0m\u001b[0m\n\u001b[1;32m   1155\u001b[0m                             \u001b[0mframe_number\u001b[0m \u001b[0;34m+=\u001b[0m \u001b[0;36m1\u001b[0m\u001b[0;34m\u001b[0m\u001b[0;34m\u001b[0m\u001b[0m\n\u001b[0;32m-> 1156\u001b[0;31m                     \u001b[0mwriter\u001b[0m\u001b[0;34m.\u001b[0m\u001b[0mgrab_frame\u001b[0m\u001b[0;34m(\u001b[0m\u001b[0;34m**\u001b[0m\u001b[0msavefig_kwargs\u001b[0m\u001b[0;34m)\u001b[0m\u001b[0;34m\u001b[0m\u001b[0;34m\u001b[0m\u001b[0m\n\u001b[0m\u001b[1;32m   1157\u001b[0m \u001b[0;34m\u001b[0m\u001b[0m\n\u001b[1;32m   1158\u001b[0m         \u001b[0;31m# Reconnect signal for first draw if necessary\u001b[0m\u001b[0;34m\u001b[0m\u001b[0;34m\u001b[0m\u001b[0;34m\u001b[0m\u001b[0m\n",
      "\u001b[0;32m~/anaconda3/envs/python3/lib/python3.7/contextlib.py\u001b[0m in \u001b[0;36m__exit__\u001b[0;34m(self, type, value, traceback)\u001b[0m\n\u001b[1;32m    128\u001b[0m                 \u001b[0mvalue\u001b[0m \u001b[0;34m=\u001b[0m \u001b[0mtype\u001b[0m\u001b[0;34m(\u001b[0m\u001b[0;34m)\u001b[0m\u001b[0;34m\u001b[0m\u001b[0;34m\u001b[0m\u001b[0m\n\u001b[1;32m    129\u001b[0m             \u001b[0;32mtry\u001b[0m\u001b[0;34m:\u001b[0m\u001b[0;34m\u001b[0m\u001b[0;34m\u001b[0m\u001b[0m\n\u001b[0;32m--> 130\u001b[0;31m                 \u001b[0mself\u001b[0m\u001b[0;34m.\u001b[0m\u001b[0mgen\u001b[0m\u001b[0;34m.\u001b[0m\u001b[0mthrow\u001b[0m\u001b[0;34m(\u001b[0m\u001b[0mtype\u001b[0m\u001b[0;34m,\u001b[0m \u001b[0mvalue\u001b[0m\u001b[0;34m,\u001b[0m \u001b[0mtraceback\u001b[0m\u001b[0;34m)\u001b[0m\u001b[0;34m\u001b[0m\u001b[0;34m\u001b[0m\u001b[0m\n\u001b[0m\u001b[1;32m    131\u001b[0m             \u001b[0;32mexcept\u001b[0m \u001b[0mStopIteration\u001b[0m \u001b[0;32mas\u001b[0m \u001b[0mexc\u001b[0m\u001b[0;34m:\u001b[0m\u001b[0;34m\u001b[0m\u001b[0;34m\u001b[0m\u001b[0m\n\u001b[1;32m    132\u001b[0m                 \u001b[0;31m# Suppress StopIteration *unless* it's the same exception that\u001b[0m\u001b[0;34m\u001b[0m\u001b[0;34m\u001b[0m\u001b[0;34m\u001b[0m\u001b[0m\n",
      "\u001b[0;32m~/anaconda3/envs/python3/lib/python3.7/site-packages/matplotlib/animation.py\u001b[0m in \u001b[0;36msaving\u001b[0;34m(self, fig, outfile, dpi, *args, **kwargs)\u001b[0m\n\u001b[1;32m    230\u001b[0m             \u001b[0;32myield\u001b[0m \u001b[0mself\u001b[0m\u001b[0;34m\u001b[0m\u001b[0;34m\u001b[0m\u001b[0m\n\u001b[1;32m    231\u001b[0m         \u001b[0;32mfinally\u001b[0m\u001b[0;34m:\u001b[0m\u001b[0;34m\u001b[0m\u001b[0;34m\u001b[0m\u001b[0m\n\u001b[0;32m--> 232\u001b[0;31m             \u001b[0mself\u001b[0m\u001b[0;34m.\u001b[0m\u001b[0mfinish\u001b[0m\u001b[0;34m(\u001b[0m\u001b[0;34m)\u001b[0m\u001b[0;34m\u001b[0m\u001b[0;34m\u001b[0m\u001b[0m\n\u001b[0m\u001b[1;32m    233\u001b[0m \u001b[0;34m\u001b[0m\u001b[0m\n\u001b[1;32m    234\u001b[0m \u001b[0;34m\u001b[0m\u001b[0m\n",
      "\u001b[0;32m~/anaconda3/envs/python3/lib/python3.7/site-packages/matplotlib/animation.py\u001b[0m in \u001b[0;36mfinish\u001b[0;34m(self)\u001b[0m\n\u001b[1;32m    365\u001b[0m     \u001b[0;32mdef\u001b[0m \u001b[0mfinish\u001b[0m\u001b[0;34m(\u001b[0m\u001b[0mself\u001b[0m\u001b[0;34m)\u001b[0m\u001b[0;34m:\u001b[0m\u001b[0;34m\u001b[0m\u001b[0;34m\u001b[0m\u001b[0m\n\u001b[1;32m    366\u001b[0m         \u001b[0;34m'''Finish any processing for writing the movie.'''\u001b[0m\u001b[0;34m\u001b[0m\u001b[0;34m\u001b[0m\u001b[0m\n\u001b[0;32m--> 367\u001b[0;31m         \u001b[0mself\u001b[0m\u001b[0;34m.\u001b[0m\u001b[0mcleanup\u001b[0m\u001b[0;34m(\u001b[0m\u001b[0;34m)\u001b[0m\u001b[0;34m\u001b[0m\u001b[0;34m\u001b[0m\u001b[0m\n\u001b[0m\u001b[1;32m    368\u001b[0m \u001b[0;34m\u001b[0m\u001b[0m\n\u001b[1;32m    369\u001b[0m     \u001b[0;32mdef\u001b[0m \u001b[0mgrab_frame\u001b[0m\u001b[0;34m(\u001b[0m\u001b[0mself\u001b[0m\u001b[0;34m,\u001b[0m \u001b[0;34m**\u001b[0m\u001b[0msavefig_kwargs\u001b[0m\u001b[0;34m)\u001b[0m\u001b[0;34m:\u001b[0m\u001b[0;34m\u001b[0m\u001b[0;34m\u001b[0m\u001b[0m\n",
      "\u001b[0;32m~/anaconda3/envs/python3/lib/python3.7/site-packages/matplotlib/animation.py\u001b[0m in \u001b[0;36mcleanup\u001b[0;34m(self)\u001b[0m\n\u001b[1;32m    409\u001b[0m         \u001b[0;32mif\u001b[0m \u001b[0mself\u001b[0m\u001b[0;34m.\u001b[0m\u001b[0m_proc\u001b[0m\u001b[0;34m.\u001b[0m\u001b[0mreturncode\u001b[0m\u001b[0;34m:\u001b[0m\u001b[0;34m\u001b[0m\u001b[0;34m\u001b[0m\u001b[0m\n\u001b[1;32m    410\u001b[0m             raise subprocess.CalledProcessError(\n\u001b[0;32m--> 411\u001b[0;31m                 self._proc.returncode, self._proc.args, out, err)\n\u001b[0m\u001b[1;32m    412\u001b[0m \u001b[0;34m\u001b[0m\u001b[0m\n\u001b[1;32m    413\u001b[0m     \u001b[0;34m@\u001b[0m\u001b[0mclassmethod\u001b[0m\u001b[0;34m\u001b[0m\u001b[0;34m\u001b[0m\u001b[0m\n",
      "\u001b[0;31mCalledProcessError\u001b[0m: Command '['ffmpeg', '-f', 'rawvideo', '-vcodec', 'rawvideo', '-s', '432x288', '-pix_fmt', 'rgba', '-r', '41.666666666666664', '-loglevel', 'error', '-i', 'pipe:', '-vcodec', 'h264', '-pix_fmt', 'yuv420p', '-y', '1ibl_ani.mp4']' returned non-zero exit status 255."
     ]
    },
    {
     "data": {
      "image/png": "[encoded data removed]",
      "text/plain": [
       "<Figure size 432x288 with 1 Axes>"
      ]
     },
     "metadata": {
      "needs_background": "light"
     },
     "output_type": "display_data"
    }
   ],
   "source": [
    "# animation_list = [join(test_folder, '001'), join(test_folder, '002'), join(test_folder, '020')]\n",
    "# animation_list = [join(test_folder, '001') ]\n",
    "\n",
    "for folder in animation_list:\n",
    "    os.makedirs(folder, exist_ok=True)\n",
    "    folder_name = os.path.basename(folder)\n",
    "    num = int(folder_name)\n",
    "    ani = save_ibls(folder, num, 0.01)"
   ]
  },
  {
   "cell_type": "markdown",
   "metadata": {},
   "source": [
    "## Prepare Mitsuba animation"
   ]
  },
  {
   "cell_type": "code",
   "execution_count": null,
   "metadata": {},
   "outputs": [],
   "source": [
    "ibl_animation_folder = 'animation'\n",
    "animation_folders = get_folders(ibl_animation_folder)\n",
    "# animation_folders = [join(ibl_animation_folder, '001'), join(ibl_animation_folder, '003'), join(ibl_animation_folder, '020')]\n",
    "# animation_folders = [join(ibl_animation_folder, '001')]\n",
    "animation_folders.sort()\n",
    "\n",
    "#todo\n",
    "cmd_path = 'mistuba_animation.sh'\n",
    "if os.path.exists(cmd_path):\n",
    "    print('update bash')\n",
    "    os.remove(cmd_path)\n",
    "\n",
    "# mask_file = '/home/ysheng/Dataset/new_dataset/cache/mask/notsimulated_combine_male_short_outfits_genesis8_armani_casualoutfit03_Base_Pose_Standing_A/pitch_15_rot_0_mask.png'\n",
    "mask_file = '/home/ysheng/Dataset/new_dataset/cache/test_mask/simulated_combine_male_genesis8_matias_hywavybob_dsoset_Base_Pose_Walking_B/pitch_30_rot_60_mask.png'\n",
    "mask_name = os.path.basename(os.path.dirname(mask_file))\n",
    "ani_out = '/home/ysheng/Dataset/eval_animation'\n",
    "cur_out = join(ani_out, mask_name)\n",
    "os.makedirs(cur_out, exist_ok=True)\n",
    "\n",
    "dbg, dbg_num = False, 1\n",
    "with tqdm(total=len(animation_folders)) as pbar:\n",
    "    for cur_ani_folder in animation_folders:\n",
    "        ibls = [join(cur_ani_folder, f) for f in os.listdir(cur_ani_folder) if f.find('png') != -1]\n",
    "        print('{} there are {} ibls'.format(cur_ani_folder, len(ibls)))\n",
    "        ibls.sort()\n",
    "        \n",
    "        ibl_name = os.path.basename(cur_ani_folder)\n",
    "        cur_ani_out_folder = join(cur_out, ibl_name)\n",
    "        os.makedirs(cur_ani_out_folder, exist_ok=True)\n",
    "        \n",
    "        for i, ibl in enumerate(ibls):\n",
    "            prefix = os.path.splitext(os.path.basename(ibl))[0]\n",
    "            \n",
    "            final_out_file, shadow_out_file = join(cur_ani_out_folder, prefix + '_final.exr'), join(cur_ani_out_folder, prefix + '_shadow.exr')\n",
    "            render_final = False\n",
    "            if i == 0:\n",
    "                render_final=True\n",
    "                \n",
    "            mitsuba_render(mask_file, ibl, final_out_file, shadow_out_file, update_cam_param=True,real_ibl=False, write_cmd=True, skip=False, cmd_path=cmd_path, final=render_final)\n",
    "            \n",
    "        pbar.update()\n",
    "        if dbg and pbar.n >= dbg_num:\n",
    "            break"
   ]
  },
  {
   "cell_type": "markdown",
   "metadata": {},
   "source": [
    "## Prepare Net animation"
   ]
  },
  {
   "cell_type": "code",
   "execution_count": null,
   "metadata": {},
   "outputs": [],
   "source": [
    "ibl_animation_folder = 'animation'\n",
    "# animation_folders = get_folders(ibl_animation_folder)\n",
    "# animation_folders = [join(ibl_animation_folder, '001'), join(ibl_animation_folder, '003'), join(ibl_animation_folder, '020')]\n",
    "# animation_folders = [join(ibl_animation_folder, '000')]\n",
    "animation_folders.sort()\n",
    "\n",
    "dbg, dbg_num = False, 1\n",
    "with tqdm(total=len(animation_folders)) as pbar:\n",
    "    for cur_ani_folder in animation_folders:\n",
    "        ibls = [join(cur_ani_folder, f) for f in os.listdir(cur_ani_folder) if f.find('png') != -1]\n",
    "        print('{} there are {} ibls'.format(cur_ani_folder, len(ibls)))\n",
    "        ibls.sort()\n",
    "        \n",
    "        ibl_name = os.path.basename(cur_ani_folder)\n",
    "        cur_ani_out_folder = join(cur_out, ibl_name)\n",
    "        os.makedirs(cur_ani_out_folder, exist_ok=True)\n",
    "        \n",
    "        for i, ibl in enumerate(ibls):\n",
    "            prefix = os.path.splitext(os.path.basename(ibl))[0]\n",
    "            out_file = join(cur_ani_out_folder, prefix + '_net.png')\n",
    "            net_render(mask_file, ibl, out_file, save_npy=True)\n",
    "            \n",
    "        pbar.update()\n",
    "        \n",
    "        if dbg and pbar.n >= dbg_num:\n",
    "            break"
   ]
  },
  {
   "cell_type": "code",
   "execution_count": 28,
   "metadata": {},
   "outputs": [],
   "source": [
    "def make_animation(out_fname, render_files, ibl_files):\n",
    "    ims = []\n",
    "    fig = plt.figure()\n",
    "    render_files.sort()\n",
    "    ibl_files.sort()\n",
    "    \n",
    "    for i,f in enumerate(tqdm(render_files)):\n",
    "        plt.axis('off')\n",
    "        img = plt.imread(f)\n",
    "\n",
    "        ibl = plt.imread(ibl_files[i])\n",
    "        w,h = 64, 32\n",
    "        ibl = np.clip(cv2.resize(ibl, (w, h)), 0.0, 1.0)\n",
    "        c = img.shape[2]\n",
    "        img[:h,:w] = ibl[:,:, :c]\n",
    "        im = plt.imshow(img, animated=True)\n",
    "        ims.append([im])\n",
    "        \n",
    "    ani = animation.ArtistAnimation(fig, ims, interval=24, blit=True, repeat_delay=1000)\n",
    "    ani.save(out_fname)\n",
    "\n",
    "dbg = False\n",
    "search_str = {'mitsuba':'shadow.png', 'net':'net.png'}\n",
    "def render_animations(render_out_folder, ani_out_folder, typename='mitsuba'):\n",
    "    models = get_folders(render_out_folder)\n",
    "    ori_ibl_folder = 'animation/'\n",
    "    \n",
    "    with tqdm(total=len(models)) as pbar:\n",
    "        for model in models:\n",
    "            ibl_folds = get_folders(model)\n",
    "            print('{}: {}'.format(model, len(ibl_folds)))\n",
    "\n",
    "            for ibl in tqdm(ibl_folds):\n",
    "                model_name, ibl_name = os.path.basename(model), os.path.basename(ibl)\n",
    "                \n",
    "                ibl_files = get_files(join(ori_ibl_folder, ibl_name))\n",
    "                mts_result_files = [join(ibl, f) for f in os.listdir(ibl) if (f.find(search_str['mitsuba']) != -1)]\n",
    "                net_result_files = [join(ibl, f) for f in os.listdir(ibl) if (f.find(search_str['net']) != -1)]\n",
    "                mts_out_fname = '{}_{}_mitsuab.mp4'.format(model_name, ibl_name)\n",
    "                net_out_fname = '{}_{}_net.mp4'.format(model_name, ibl_name)\n",
    "                \n",
    "                mts_out_fname = join(ani_out_folder, mts_out_fname)\n",
    "                net_out_fname = join(ani_out_folder, net_out_fname)\n",
    "                \n",
    "                if typename == 'mitsuba':\n",
    "                    make_animation(mts_out_fname, mts_result_files, ibl_files)\n",
    "                \n",
    "                if typename == 'net':\n",
    "                    make_animation(net_out_fname, net_result_files, ibl_files)\n",
    "                \n",
    "                if typename == 'both':\n",
    "                    make_animation(net_out_fname, net_result_files, ibl_files)\n",
    "                    make_animation(mts_out_fname, mts_result_files, ibl_files)\n",
    "                \n",
    "                if dbg:\n",
    "                    break\n",
    "            if dbg:\n",
    "                break\n",
    "                \n",
    "            pbar.update()\n",
    "            "
   ]
  },
  {
   "cell_type": "markdown",
   "metadata": {},
   "source": [
    "## Render Mitsuba and Net Animations "
   ]
  },
  {
   "cell_type": "code",
   "execution_count": 30,
   "metadata": {},
   "outputs": [
    {
     "name": "stderr",
     "output_type": "stream",
     "text": [
      "  0%|          | 0/1 [00:00<?, ?it/s]\n",
      "  0%|          | 0/1 [00:00<?, ?it/s]\u001b[A\n",
      "\n",
      "  0%|          | 0/720 [00:00<?, ?it/s]\u001b[A\u001b[A\n",
      "\n",
      "  3%|▎         | 20/720 [00:00<00:03, 189.00it/s]\u001b[A\u001b[A"
     ]
    },
    {
     "name": "stdout",
     "output_type": "stream",
     "text": [
      "/home/ysheng/Dataset/eval_animation/simulated_combine_male_genesis8_matias_hywavybob_dsoset_Base_Pose_Walking_B: 1\n"
     ]
    },
    {
     "name": "stderr",
     "output_type": "stream",
     "text": [
      "\n",
      "\n",
      "  7%|▋         | 49/720 [00:00<00:03, 210.61it/s]\u001b[A\u001b[A\n",
      "\n",
      " 11%|█         | 79/720 [00:00<00:02, 229.46it/s]\u001b[A\u001b[A\n",
      "\n",
      " 15%|█▍        | 106/720 [00:00<00:02, 239.99it/s]\u001b[A\u001b[A\n",
      "\n",
      " 18%|█▊        | 127/720 [00:00<00:03, 166.71it/s]\u001b[A\u001b[A\n",
      "\n",
      " 22%|██▏       | 157/720 [00:00<00:02, 191.76it/s]\u001b[A\u001b[A\n",
      "\n",
      " 26%|██▌       | 187/720 [00:00<00:02, 214.03it/s]\u001b[A\u001b[A\n",
      "\n",
      " 30%|███       | 216/720 [00:00<00:02, 231.40it/s]\u001b[A\u001b[A\n",
      "\n",
      " 34%|███▍      | 245/720 [00:01<00:01, 245.97it/s]\u001b[A\u001b[A\n",
      "\n",
      " 38%|███▊      | 275/720 [00:01<00:01, 259.92it/s]\u001b[A\u001b[A\n",
      "\n",
      " 42%|████▏     | 303/720 [00:01<00:01, 265.49it/s]\u001b[A\u001b[A\n",
      "\n",
      " 46%|████▌     | 331/720 [00:01<00:01, 267.46it/s]\u001b[A\u001b[A\n",
      "\n",
      " 50%|█████     | 361/720 [00:01<00:01, 275.37it/s]\u001b[A\u001b[A\n",
      "\n",
      " 54%|█████▍    | 390/720 [00:01<00:01, 278.61it/s]\u001b[A\u001b[A\n",
      "\n",
      " 58%|█████▊    | 420/720 [00:01<00:01, 283.13it/s]\u001b[A\u001b[A\n",
      "\n",
      " 63%|██████▎   | 451/720 [00:01<00:00, 288.06it/s]\u001b[A\u001b[A\n",
      "\n",
      " 67%|██████▋   | 482/720 [00:01<00:00, 292.26it/s]\u001b[A\u001b[A\n",
      "\n",
      " 71%|███████   | 512/720 [00:01<00:00, 293.29it/s]\u001b[A\u001b[A\n",
      "\n",
      " 75%|███████▌  | 542/720 [00:02<00:00, 289.99it/s]\u001b[A\u001b[A\n",
      "\n",
      " 79%|███████▉  | 572/720 [00:02<00:00, 291.56it/s]\u001b[A\u001b[A\n",
      "\n",
      " 84%|████████▎ | 602/720 [00:02<00:00, 293.22it/s]\u001b[A\u001b[A\n",
      "\n",
      " 88%|████████▊ | 632/720 [00:02<00:00, 292.87it/s]\u001b[A\u001b[A\n",
      "\n",
      " 92%|█████████▏| 662/720 [00:02<00:00, 292.07it/s]\u001b[A\u001b[A\n",
      "\n",
      "100%|██████████| 720/720 [00:02<00:00, 271.05it/s]\u001b[A\u001b[A\n",
      "\n",
      "\n",
      "  0%|          | 0/720 [00:00<?, ?it/s]\u001b[A\u001b[A\n",
      "\n",
      "  4%|▍         | 28/720 [00:00<00:02, 277.17it/s]\u001b[A\u001b[A\n",
      "\n",
      "  8%|▊         | 61/720 [00:00<00:02, 289.39it/s]\u001b[A\u001b[A\n",
      "\n",
      " 13%|█▎        | 94/720 [00:00<00:02, 300.35it/s]\u001b[A\u001b[A\n",
      "\n",
      " 18%|█▊        | 127/720 [00:00<00:01, 308.53it/s]\u001b[A\u001b[A\n",
      "\n",
      " 22%|██▏       | 161/720 [00:00<00:01, 315.73it/s]\u001b[A\u001b[A\n",
      "\n",
      " 27%|██▋       | 194/720 [00:00<00:01, 317.87it/s]\u001b[A\u001b[A\n",
      "\n",
      " 31%|███▏      | 226/720 [00:00<00:01, 317.41it/s]\u001b[A\u001b[A\n",
      "\n",
      " 36%|███▌      | 259/720 [00:00<00:01, 320.28it/s]\u001b[A\u001b[A\n",
      "\n",
      " 41%|████      | 292/720 [00:00<00:01, 321.02it/s]\u001b[A\u001b[A\n",
      "\n",
      " 45%|████▌     | 324/720 [00:01<00:01, 316.77it/s]\u001b[A\u001b[A\n",
      "\n",
      " 49%|████▉     | 355/720 [00:01<00:01, 290.24it/s]\u001b[A\u001b[A\n",
      "\n",
      " 53%|█████▎    | 384/720 [00:01<00:01, 285.93it/s]\u001b[A\u001b[A\n",
      "\n",
      " 58%|█████▊    | 417/720 [00:01<00:01, 297.18it/s]\u001b[A\u001b[A\n",
      "\n",
      " 62%|██████▎   | 450/720 [00:01<00:00, 305.53it/s]\u001b[A\u001b[A\n",
      "\n",
      " 67%|██████▋   | 483/720 [00:01<00:00, 312.34it/s]\u001b[A\u001b[A\n",
      "\n",
      " 72%|███████▏  | 516/720 [00:01<00:00, 314.84it/s]\u001b[A\u001b[A\n",
      "\n",
      " 76%|███████▌  | 548/720 [00:01<00:00, 313.81it/s]\u001b[A\u001b[A\n",
      "\n",
      " 81%|████████  | 580/720 [00:01<00:00, 315.33it/s]\u001b[A\u001b[A\n",
      "\n",
      " 85%|████████▌ | 613/720 [00:01<00:00, 318.07it/s]\u001b[A\u001b[A\n",
      "\n",
      " 90%|████████▉ | 645/720 [00:02<00:00, 318.18it/s]\u001b[A\u001b[A\n",
      "\n",
      " 94%|█████████▍| 678/720 [00:02<00:00, 318.86it/s]\u001b[A\u001b[A\n",
      "\n",
      "100%|██████████| 720/720 [00:02<00:00, 313.78it/s]\u001b[A\u001b[A\n",
      "\n",
      "100%|██████████| 1/1 [00:33<00:00, 33.45s/it]\u001b[A\n",
      "100%|██████████| 1/1 [00:33<00:00, 33.45s/it]\n"
     ]
    },
    {
     "data": {
      "image/png": "[encoded data removed]",
      "text/plain": [
       "<Figure size 432x288 with 1 Axes>"
      ]
     },
     "metadata": {
      "needs_background": "light"
     },
     "output_type": "display_data"
    },
    {
     "data": {
      "image/png": "[encoded data removed]",
      "text/plain": [
       "<Figure size 432x288 with 1 Axes>"
      ]
     },
     "metadata": {
      "needs_background": "light"
     },
     "output_type": "display_data"
    }
   ],
   "source": [
    "rendering_out_folder = '/home/ysheng/Dataset/eval_animation/'\n",
    "animation_out = 'ani_out'\n",
    "os.makedirs(animation_out, exist_ok=True)\n",
    "\n",
    "render_animations(rendering_out_folder, animation_out, 'both')\n",
    "# render_animations(rendering_out_folder, animation_out, 'mitsuba')\n",
    "# render_animations(rendering_out_folder, animation_out, 'both')"
   ]
  },
  {
   "cell_type": "markdown",
   "metadata": {},
   "source": [
    "## Test for Mitsuba Rendering"
   ]
  },
  {
   "cell_type": "code",
   "execution_count": 31,
   "metadata": {},
   "outputs": [
    {
     "name": "stdout",
     "output_type": "stream",
     "text": [
      "shape: (16, 32, 4) min: 0, max: 255\n"
     ]
    },
    {
     "data": {
      "image/png": "[encoded data removed]",
      "text/plain": [
       "<Figure size 1080x720 with 1 Axes>"
      ]
     },
     "metadata": {
      "needs_background": "light"
     },
     "output_type": "display_data"
    },
    {
     "name": "stdout",
     "output_type": "stream",
     "text": [
      "min: 5.826450433232822e-13, max: 1.0\n",
      "min: -5.165929906070232e-10, max: 1.0\n"
     ]
    },
    {
     "data": {
      "image/png": "[encoded data removed]",
      "text/plain": [
       "<Figure size 1080x720 with 1 Axes>"
      ]
     },
     "metadata": {
      "needs_background": "light"
     },
     "output_type": "display_data"
    },
    {
     "name": "stderr",
     "output_type": "stream",
     "text": [
      "Clipping input data to the valid range for imshow with RGB data ([0..1] for floats or [0..255] for integers).\n"
     ]
    },
    {
     "data": {
      "image/png": "[encoded data removed]",
      "text/plain": [
       "<Figure size 1080x720 with 1 Axes>"
      ]
     },
     "metadata": {
      "needs_background": "light"
     },
     "output_type": "display_data"
    }
   ],
   "source": [
    "folder = '/home/ysheng/Dataset/eval_animation/simulated_combine_male_genesis8_matias_hywavybob_dsoset_Base_Pose_Walking_B/001'\n",
    "test_shadow, test_final = join(folder, '000000_shadow.exr'), join(folder, '000000_final.exr')\n",
    "ibl_file = 'animation/001/000000.png'\n",
    "ibl = imageio.imread(ibl_file)\n",
    "print('shape: {} min: {}, max: {}'.format(ibl.shape, np.min(ibl), np.max(ibl)))\n",
    "show(ibl)\n",
    "\n",
    "test_shadow_np, test_final_np = imageio.imread(test_shadow), imageio.imread(test_final)\n",
    "\n",
    "cv2.normalize(test_shadow_np, test_shadow_np, 0.0, 1.0, cv2.NORM_MINMAX)\n",
    "cv2.normalize(test_final_np, test_final_np, 0.0, 1.0, cv2.NORM_MINMAX)\n",
    "\n",
    "print('min: {}, max: {}'.format(np.min(test_shadow_np), np.max(test_shadow_np)))\n",
    "print('min: {}, max: {}'.format(np.min(test_final_np), np.max(test_final_np)))\n",
    "show(test_shadow_np)\n",
    "show(test_final_np)"
   ]
  },
  {
   "cell_type": "code",
   "execution_count": 36,
   "metadata": {},
   "outputs": [
    {
     "name": "stdout",
     "output_type": "stream",
     "text": [
      "min: 0.0, max: 1.0\n"
     ]
    },
    {
     "data": {
      "image/png": "[encoded data removed]",
      "text/plain": [
       "<Figure size 1080x720 with 1 Axes>"
      ]
     },
     "metadata": {
      "needs_background": "light"
     },
     "output_type": "display_data"
    },
    {
     "data": {
      "image/png": "[encoded data removed]",
      "text/plain": [
       "<Figure size 1080x720 with 1 Axes>"
      ]
     },
     "metadata": {
      "needs_background": "light"
     },
     "output_type": "display_data"
    }
   ],
   "source": [
    "test_ibl_file = 'animation/001/000020.png'\n",
    "mask_file = '/home/ysheng/Dataset/new_dataset/cache/test_mask/simulated_combine_male_genesis8_matias_hywavybob_dsoset_Base_Pose_Walking_B/pitch_30_rot_60_mask.png'\n",
    "out_file = 'test.png'\n",
    "import evaluation\n",
    "pred = evaluation.net_render(mask_file, test_ibl_file, out_file, save_npy=True)\n",
    "\n",
    "ibl_np = plt.imread(test_ibl_file)\n",
    "print('min: {}, max: {}'.format(np.min(ibl_np), np.max(ibl_np)))\n",
    "show(ibl_np)\n",
    "show(pred)"
   ]
  },
  {
   "cell_type": "code",
   "execution_count": null,
   "metadata": {},
   "outputs": [],
   "source": []
  }
 ],
 "metadata": {
  "kernelspec": {
   "display_name": "Python 3",
   "language": "python",
   "name": "python3"
  },
  "language_info": {
   "codemirror_mode": {
    "name": "ipython",
    "version": 3
   },
   "file_extension": ".py",
   "mimetype": "text/x-python",
   "name": "python",
   "nbconvert_exporter": "python",
   "pygments_lexer": "ipython3",
   "version": "3.7.7"
  }
 },
 "nbformat": 4,
 "nbformat_minor": 4
}
