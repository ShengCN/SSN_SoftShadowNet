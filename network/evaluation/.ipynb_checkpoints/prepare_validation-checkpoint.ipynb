{
 "cells": [
  {
   "cell_type": "code",
   "execution_count": 1,
   "metadata": {},
   "outputs": [],
   "source": [
    "%load_ext autoreload\n",
    "%autoreload 2"
   ]
  },
  {
   "cell_type": "code",
   "execution_count": 3,
   "metadata": {},
   "outputs": [
    {
     "name": "stdout",
     "output_type": "stream",
     "text": [
      "options:  Namespace(file='/home/ysheng/.local/share/jupyter/runtime/kernel-693ee1c1-d71b-4d23-8ed1-48b72a476dea.json', ibl=None, mask=None, output=None, verbose=False, weight='../weights/group_norm_15-May-07-45-PM.pt')\n",
      "Device:  cuda:2\n"
     ]
    }
   ],
   "source": [
    "import sys\n",
    "sys.path.append('..')\n",
    "\n",
    "import os\n",
    "from os.path import join\n",
    "import numpy as np\n",
    "import matplotlib.pyplot as plt\n",
    "import csv\n",
    "from tqdm import tqdm\n",
    "import multiprocessing\n",
    "from functools import partial\n",
    "from PIL import Image\n",
    "import numbergen as ng\n",
    "import imagen as ig\n",
    "import time\n",
    "import cv2\n",
    "from ssn.random_pattern import random_pattern\n",
    "import numbergen as ng\n",
    "import imagen as ig\n",
    "import random\n",
    "import imageio\n",
    "from evaluation import evaluate, mitsuba_render,net_gt, net_render"
   ]
  },
  {
   "cell_type": "code",
   "execution_count": 4,
   "metadata": {},
   "outputs": [],
   "source": [
    "pattern_generator = random_pattern()"
   ]
  },
  {
   "cell_type": "code",
   "execution_count": 5,
   "metadata": {},
   "outputs": [],
   "source": [
    "def show(img, title='',cmap=None): \n",
    "    plt.figure(figsize=(15,10))\n",
    "    plt.imshow(img, cmap=cmap)\n",
    "    plt.title(title)\n",
    "    plt.show()"
   ]
  },
  {
   "cell_type": "code",
   "execution_count": 6,
   "metadata": {},
   "outputs": [],
   "source": [
    "testing_ibl_folder = '/home/ysheng/Dataset/ibls/pattern/'\n",
    "high_reso_testing_ibl_folder = '/home/ysheng/Dataset/ibls/high_pattern/'\n",
    "testing_real_ibl_folder = '/home/ysheng/Dataset/ibls/real/'\n",
    "model_folder = '/home/ysheng/Dataset/models/'\n",
    "test_model_folder='/home/ysheng/Dataset/test_models/'\n",
    "result_folder = '/home/ysheng/Dataset/evaluation'\n",
    "\n",
    "os.makedirs(result_folder, exist_ok=True)"
   ]
  },
  {
   "cell_type": "code",
   "execution_count": 7,
   "metadata": {},
   "outputs": [
    {
     "name": "stdout",
     "output_type": "stream",
     "text": [
      "[1, 3, 5, 7, 9, 11, 13, 15, 17, 19, 21, 23, 25, 27, 29, 31, 33, 35, 37, 39, 41, 43, 45, 47, 49, 51]\n",
      "[0.01, 0.02, 0.03, 0.04, 0.05, 0.06, 0.07, 0.08, 0.09, 0.1]\n"
     ]
    }
   ],
   "source": [
    "sample_dimension = 10\n",
    "num_list = [i for i in range(1, 52, 2)]\n",
    "size_list = [i * 0.01 for i in range(1,11)]\n",
    "\n",
    "print(num_list)\n",
    "print(size_list)"
   ]
  },
  {
   "cell_type": "code",
   "execution_count": 8,
   "metadata": {},
   "outputs": [],
   "source": [
    "def normalize(ibl, energy=3500):\n",
    "    total_energy = np.sum(ibl)\n",
    "    if total_energy < 1e-3:\n",
    "        print('small energy: ', total_energy)\n",
    "        return np.zeros((80,512))\n",
    "\n",
    "    ibl = ibl * energy / total_energy\n",
    "\n",
    "    return ibl\n",
    "\n",
    "def to_normalized_ibl(ibl):\n",
    "    \"\"\" input is pattern generated ibl [80x512]\n",
    "        output is noramlized ibl: [16x32]\n",
    "    \"\"\"\n",
    "    ibl = cv2.resize(ibl, (32, 5))\n",
    "    ret = np.zeros((16, 32))\n",
    "    ret[:5,:] = ibl\n",
    "    return ret\n",
    "\n",
    "def get_files(folder):\n",
    "    return [os.path.join(folder, f) for f in os.listdir(folder) if os.path.isfile(os.path.join(folder, f))]\n",
    "\n",
    "def get_folders(folder):\n",
    "    return [os.path.join(folder, f) for f in os.listdir(folder) if os.path.isdir(os.path.join(folder, f))]"
   ]
  },
  {
   "cell_type": "code",
   "execution_count": 9,
   "metadata": {},
   "outputs": [
    {
     "name": "stdout",
     "output_type": "stream",
     "text": [
      "/home/ysheng/Dataset/test_models/\n",
      "5\n",
      "['simulated_combine_female_genesis8_basic_wildwind_bardot_FEP_Pose_118_Genesis_8_Female', 'simulated_combine_male_genesis8_matias_hywavybob_dsoset_Base_Pose_Walking_B', 'simulated_combine_male_genesis8_basic_blair_cityboy_Altern8_Lee_8_-_Pose_11_B', 'simulated_combine_female_genesis8_missshang_hywavybob_xfharemoutfit_Base_Pose_Standing_B', 'simulated_combine_male_genesis8_lee8_armani_informalsuit_Base_Pose_Standing_A']\n"
     ]
    }
   ],
   "source": [
    "# model_lists = get_files(model_folder)\n",
    "print(test_model_folder)\n",
    "model_lists = get_files(test_model_folder)\n",
    "test_model_list = []\n",
    "for m in model_lists:\n",
    "    model_name = os.path.splitext(os.path.basename(m))[0]\n",
    "    test_model_list.append(model_name)\n",
    "\n",
    "# test_model_list = random.sample(test_model_list, k=10, )\n",
    "print(len(test_model_list))\n",
    "print(test_model_list)"
   ]
  },
  {
   "cell_type": "markdown",
   "metadata": {},
   "source": [
    "## prepare mask input"
   ]
  },
  {
   "cell_type": "code",
   "execution_count": 10,
   "metadata": {},
   "outputs": [
    {
     "ename": "FileNotFoundError",
     "evalue": "[Errno 2] No such file or directory: '/home/ysheng/Dataset/new_dataset/cache/mask/simulated_combine_female_genesis8_basic_wildwind_bardot_FEP_Pose_118_Genesis_8_Female'",
     "output_type": "error",
     "traceback": [
      "\u001b[0;31m---------------------------------------------------------------------------\u001b[0m",
      "\u001b[0;31mFileNotFoundError\u001b[0m                         Traceback (most recent call last)",
      "\u001b[0;32m<ipython-input-10-5d17d94a7725>\u001b[0m in \u001b[0;36m<module>\u001b[0;34m\u001b[0m\n\u001b[1;32m      3\u001b[0m \u001b[0;32mfor\u001b[0m \u001b[0mmodel\u001b[0m \u001b[0;32min\u001b[0m \u001b[0mtest_model_list\u001b[0m\u001b[0;34m:\u001b[0m\u001b[0;34m\u001b[0m\u001b[0;34m\u001b[0m\u001b[0m\n\u001b[1;32m      4\u001b[0m     \u001b[0mmask_folder\u001b[0m \u001b[0;34m=\u001b[0m \u001b[0mjoin\u001b[0m\u001b[0;34m(\u001b[0m\u001b[0mmask_root\u001b[0m\u001b[0;34m,\u001b[0m \u001b[0mmodel\u001b[0m\u001b[0;34m)\u001b[0m\u001b[0;34m\u001b[0m\u001b[0;34m\u001b[0m\u001b[0m\n\u001b[0;32m----> 5\u001b[0;31m     \u001b[0mmasks\u001b[0m \u001b[0;34m=\u001b[0m \u001b[0mget_files\u001b[0m\u001b[0;34m(\u001b[0m\u001b[0mmask_folder\u001b[0m\u001b[0;34m)\u001b[0m\u001b[0;34m\u001b[0m\u001b[0;34m\u001b[0m\u001b[0m\n\u001b[0m\u001b[1;32m      6\u001b[0m     \u001b[0mfilterd_masks\u001b[0m \u001b[0;34m=\u001b[0m \u001b[0;34m[\u001b[0m\u001b[0;34m]\u001b[0m\u001b[0;34m\u001b[0m\u001b[0;34m\u001b[0m\u001b[0m\n\u001b[1;32m      7\u001b[0m     \u001b[0;32mfor\u001b[0m \u001b[0mm\u001b[0m \u001b[0;32min\u001b[0m \u001b[0mmasks\u001b[0m\u001b[0;34m:\u001b[0m\u001b[0;34m\u001b[0m\u001b[0;34m\u001b[0m\u001b[0m\n",
      "\u001b[0;32m<ipython-input-8-fe5690b150bc>\u001b[0m in \u001b[0;36mget_files\u001b[0;34m(folder)\u001b[0m\n\u001b[1;32m     19\u001b[0m \u001b[0;34m\u001b[0m\u001b[0m\n\u001b[1;32m     20\u001b[0m \u001b[0;32mdef\u001b[0m \u001b[0mget_files\u001b[0m\u001b[0;34m(\u001b[0m\u001b[0mfolder\u001b[0m\u001b[0;34m)\u001b[0m\u001b[0;34m:\u001b[0m\u001b[0;34m\u001b[0m\u001b[0;34m\u001b[0m\u001b[0m\n\u001b[0;32m---> 21\u001b[0;31m     \u001b[0;32mreturn\u001b[0m \u001b[0;34m[\u001b[0m\u001b[0mos\u001b[0m\u001b[0;34m.\u001b[0m\u001b[0mpath\u001b[0m\u001b[0;34m.\u001b[0m\u001b[0mjoin\u001b[0m\u001b[0;34m(\u001b[0m\u001b[0mfolder\u001b[0m\u001b[0;34m,\u001b[0m \u001b[0mf\u001b[0m\u001b[0;34m)\u001b[0m \u001b[0;32mfor\u001b[0m \u001b[0mf\u001b[0m \u001b[0;32min\u001b[0m \u001b[0mos\u001b[0m\u001b[0;34m.\u001b[0m\u001b[0mlistdir\u001b[0m\u001b[0;34m(\u001b[0m\u001b[0mfolder\u001b[0m\u001b[0;34m)\u001b[0m \u001b[0;32mif\u001b[0m \u001b[0mos\u001b[0m\u001b[0;34m.\u001b[0m\u001b[0mpath\u001b[0m\u001b[0;34m.\u001b[0m\u001b[0misfile\u001b[0m\u001b[0;34m(\u001b[0m\u001b[0mos\u001b[0m\u001b[0;34m.\u001b[0m\u001b[0mpath\u001b[0m\u001b[0;34m.\u001b[0m\u001b[0mjoin\u001b[0m\u001b[0;34m(\u001b[0m\u001b[0mfolder\u001b[0m\u001b[0;34m,\u001b[0m \u001b[0mf\u001b[0m\u001b[0;34m)\u001b[0m\u001b[0;34m)\u001b[0m\u001b[0;34m]\u001b[0m\u001b[0;34m\u001b[0m\u001b[0;34m\u001b[0m\u001b[0m\n\u001b[0m\u001b[1;32m     22\u001b[0m \u001b[0;34m\u001b[0m\u001b[0m\n\u001b[1;32m     23\u001b[0m \u001b[0;32mdef\u001b[0m \u001b[0mget_folders\u001b[0m\u001b[0;34m(\u001b[0m\u001b[0mfolder\u001b[0m\u001b[0;34m)\u001b[0m\u001b[0;34m:\u001b[0m\u001b[0;34m\u001b[0m\u001b[0;34m\u001b[0m\u001b[0m\n",
      "\u001b[0;31mFileNotFoundError\u001b[0m: [Errno 2] No such file or directory: '/home/ysheng/Dataset/new_dataset/cache/mask/simulated_combine_female_genesis8_basic_wildwind_bardot_FEP_Pose_118_Genesis_8_Female'"
     ]
    }
   ],
   "source": [
    "mask_dict = dict()\n",
    "mask_root = '/home/ysheng/Dataset/new_dataset/cache/mask/'\n",
    "for model in test_model_list:\n",
    "    mask_folder = join(mask_root, model)\n",
    "    masks = get_files(mask_folder)\n",
    "    filterd_masks = []\n",
    "    for m in masks:\n",
    "        if m.find('.png') != -1:\n",
    "            filterd_masks.append(m)\n",
    "    \n",
    "    mask_dict[model] = filterd_masks"
   ]
  },
  {
   "cell_type": "markdown",
   "metadata": {},
   "source": [
    "## prepare testing ibls"
   ]
  },
  {
   "cell_type": "code",
   "execution_count": null,
   "metadata": {},
   "outputs": [],
   "source": [
    "scale = 3.0\n",
    "os.makedirs(testing_ibl_folder, exist_ok=True)\n",
    "os.makedirs(high_reso_testing_ibl_folder, exist_ok=True)\n",
    "\n",
    "for num in tqdm(num_list):\n",
    "    for size in size_list:\n",
    "        seed = random.randint(0,19920208)\n",
    "        factor = 80/256\n",
    "        if num == 0:\n",
    "            ibl = np.zeros((80,512))\n",
    "        else:\n",
    "            # 80 x 512\n",
    "            ibl = pattern_generator.get_pattern(num, size=size)\n",
    "        \n",
    "        title = 'num_{}_size_{}_ibl.png'.format(num, size)\n",
    "        \n",
    "        plt.imsave(os.path.join(high_reso_testing_ibl_folder, title),ibl, cmap='gray')\n",
    "        show(ibl)\n",
    "        \n",
    "        # to 5 x 32\n",
    "        ibl = cv2.resize(ibl,(32, 5))\n",
    "        output_ibl = np.zeros((16, 32))\n",
    "        output_ibl[:5,:] = ibl\n",
    "        output_ibl = output_ibl/np.max(output_ibl)\n",
    "        \n",
    "#         ibl = cv2.normalize(cv2.resize(ibl, (32, 16)), 0.0, 1.0, cv2.NORM_MINMAX) \n",
    "        show(output_ibl, title)\n",
    "        plt.imsave(os.path.join(testing_ibl_folder, title), output_ibl, cmap='gray')\n",
    "    \n",
    "#         break\n",
    "#     break"
   ]
  },
  {
   "cell_type": "markdown",
   "metadata": {},
   "source": [
    "## prepare real testing ibls "
   ]
  },
  {
   "cell_type": "code",
   "execution_count": null,
   "metadata": {},
   "outputs": [],
   "source": [
    "hdr_ibl_folder = join('/home/ysheng/Dataset/ibls/real/', 'hdr')\n",
    "\n",
    "files = get_files(hdr_ibl_folder)\n",
    "print('{} real ibls'.format(len(files)))\n",
    "\n",
    "for f in tqdm(files):\n",
    "    hdr_img = imageio.imread(f)\n",
    "    show(hdr_img)\n",
    "    hdr_img = cv2.resize(hdr_img, (32,16))\n",
    "    fname = os.path.basename(f)\n",
    "    hdr_img[6:,:] = 0.0\n",
    "    show(hdr_img)\n",
    "    cur_save_path = join(testing_real_ibl_folder, fname)\n",
    "    imageio.imwrite(cur_save_path, hdr_img)"
   ]
  },
  {
   "cell_type": "markdown",
   "metadata": {},
   "source": [
    "## output pattern batch data"
   ]
  },
  {
   "cell_type": "code",
   "execution_count": null,
   "metadata": {},
   "outputs": [],
   "source": [
    "\"\"\" (model, ibl) -> one scene\n",
    "\"\"\"\n",
    "ibl_files = get_files(testing_ibl_folder)\n",
    "# random.seed(19920208)\n",
    "# random.shuffle(ibl_files)\n",
    "# ibl_files = ibl_files[:100]\n",
    "real_ibl_files = get_files(testing_real_ibl_folder)\n",
    "\n",
    "# ibl_files += real_ibl_files\n",
    "# ibl_files= real_ibl_files\n",
    "print(len(ibl_files))\n",
    "print(ibl_files)\n",
    "\n",
    "scene_dict={}\n",
    "random.seed(19920208)\n",
    "for model in test_model_list:\n",
    "    for ibl_file in ibl_files:\n",
    "        scene_dict[(model, ibl_file)] = random.sample(mask_dict[model], k=1)[0]"
   ]
  },
  {
   "cell_type": "markdown",
   "metadata": {},
   "source": [
    "### Mitsuba script"
   ]
  },
  {
   "cell_type": "code",
   "execution_count": null,
   "metadata": {},
   "outputs": [],
   "source": [
    "total = len(test_model_list) * len(ibl_files)\n",
    "counter = 0\n",
    "bash_file = 'mitsuba_bash.sh'\n",
    "if os.path.exists(bash_file):\n",
    "    os.remove(bash_file)\n",
    "\n",
    "dbg, dbg_num = False, 100\n",
    "    \n",
    "with tqdm(total=total) as pbar:\n",
    "    for model in test_model_list:\n",
    "        for i, ibl_file in enumerate(ibl_files):\n",
    "            output_folder = os.path.join(result_folder, model)\n",
    "            os.makedirs(output_folder, exist_ok=True)\n",
    "            \n",
    "            if i < (len(ibl_files) - len(real_ibl_files)):\n",
    "                cur_output = join(output_folder,'pattern')\n",
    "                os.makedirs(cur_output, exist_ok=True)\n",
    "                real_ibl = False\n",
    "            else:\n",
    "                cur_output = join(output_folder, 'real')\n",
    "                os.makedirs(cur_output, exist_ok=True)\n",
    "                real_ibl = True\n",
    "            \n",
    "            model_path = join(model_folder, model + \".obj\")\n",
    "            ibl_name = os.path.splitext(os.path.basename(ibl_file))[0]\n",
    "            \n",
    "            cur_output = join(cur_output, ibl_name)\n",
    "            os.makedirs(cur_output, exist_ok=True)\n",
    "            \n",
    "            final_out_file, shadow_out_file = join(cur_output, 'mitsuba_final.exr'), join(cur_output, 'mitsuba_shadow.exr')\n",
    "\n",
    "            mask_path = scene_dict[(model, ibl_file)]\n",
    "            if model == 'simulated_combine_female_short_outfits_audrey_blair_summertimefull_CDIG8Female_StandH' and ibl_file == '/home/ysheng/Dataset/ibls/real/20050806-03_hd.hdr':\n",
    "                print(mask_path)\n",
    "                \n",
    "            mitsuba_render(mask_path, ibl_file, final_out_file, shadow_out_file, real_ibl=real_ibl, write_cmd=True, skip=True)\n",
    "            with open(bash_file, 'a+') as f:\n",
    "                counter += 1\n",
    "                f.write('echo finish: {}\\n'.format(counter/total))\n",
    "            pbar.update()\n",
    "            \n",
    "            if dbg and pbar.n > dbg_num:\n",
    "                break\n",
    "        if dbg:\n",
    "            break"
   ]
  },
  {
   "cell_type": "code",
   "execution_count": null,
   "metadata": {},
   "outputs": [],
   "source": [
    "print(len(test_model_list))\n",
    "print(len(set(test_model_list)))\n",
    "\n",
    "print(len(ibl_files))\n",
    "print(len(set(ibl_files)))"
   ]
  },
  {
   "cell_type": "markdown",
   "metadata": {},
   "source": [
    "### Net predcitions"
   ]
  },
  {
   "cell_type": "code",
   "execution_count": null,
   "metadata": {},
   "outputs": [],
   "source": [
    "import shutil \n",
    "# ibl_files, model_list\n",
    "total = len(test_model_list) * len(ibl_files)\n",
    "counter = 0\n",
    "with tqdm(total=total) as pbar:\n",
    "    for model in test_model_list:\n",
    "        for i,ibl_file in enumerate(ibl_files):\n",
    "            output_folder = os.path.join(result_folder, model)\n",
    "            os.makedirs(output_folder, exist_ok=True)\n",
    "            \n",
    "            if i < (len(ibl_files) - len(real_ibl_files)):\n",
    "                cur_output = join(output_folder,'pattern')\n",
    "                os.makedirs(cur_output, exist_ok=True)\n",
    "                real_ibl = False\n",
    "            else:\n",
    "                cur_output = join(output_folder, 'real')\n",
    "                os.makedirs(cur_output, exist_ok=True)\n",
    "                real_ibl = True\n",
    "            \n",
    "            model_path = join(model_folder,join(model, model + \".obj\"))\n",
    "            ibl_name = os.path.splitext(os.path.basename(ibl_file))[0]\n",
    "            \n",
    "            cur_output = join(cur_output, ibl_name)\n",
    "            os.makedirs(cur_output, exist_ok=True)\n",
    "            \n",
    "            mask_path = scene_dict[(model, ibl_file)]\n",
    "            gt_out_file, predict_out_file = join(cur_output, 'gt.png'), join(cur_output, 'predict.png')\n",
    "            \n",
    "            shutil.copyfile(mask_path, join(cur_output, 'mask.png'))\n",
    "            net_gt(mask_path, ibl_file, gt_out_file)\n",
    "            net_render(mask_path, ibl_file, predict_out_file)\n",
    "            pbar.update()\n",
    "\n",
    "            if dbg and pbar.n > dbg_num:\n",
    "                break\n",
    "        if dbg:\n",
    "            break"
   ]
  },
  {
   "cell_type": "markdown",
   "metadata": {},
   "source": [
    "### Final processing\n",
    "1. flip mitsuab shadow\n",
    "2. composite my mitsuba shadow"
   ]
  },
  {
   "cell_type": "code",
   "execution_count": null,
   "metadata": {},
   "outputs": [],
   "source": [
    "def composite_shadow(mask_np, final_np, shadow_np):\n",
    "    masked_area = np.where(mask_np > 1e-3)\n",
    "\n",
    "    if shadow_np.shape == final_np.shape:\n",
    "        ret = np.copy(shadow_np)\n",
    "    else:\n",
    "        h,w,c = shadow_np.shape\n",
    "        ret = np.ones((h,w,3))\n",
    "        ret = shadow_np[:,:,:3]\n",
    "        \n",
    "    ret[masked_area] = final_np[masked_area]\n",
    "        \n",
    "    return ret\n",
    "\n",
    "dbg, dbg_num = False, 0\n",
    "counter = 0\n",
    "with tqdm(total=total) as pbar:\n",
    "    for model in test_model_list:\n",
    "        for i,ibl_file in enumerate(ibl_files):\n",
    "            output_folder = os.path.join(result_folder, model)\n",
    "            os.makedirs(output_folder, exist_ok=True)\n",
    "            \n",
    "            if i < (len(ibl_files) - len(real_ibl_files)):\n",
    "                cur_output = join(output_folder,'pattern')\n",
    "                os.makedirs(cur_output, exist_ok=True)\n",
    "                real_ibl = False\n",
    "            else:\n",
    "                cur_output = join(output_folder, 'real')\n",
    "                os.makedirs(cur_output, exist_ok=True)\n",
    "                real_ibl = True\n",
    "                \n",
    "            ibl_name = os.path.splitext(os.path.basename(ibl_file))[0]\n",
    "            cur_output = join(cur_output, ibl_name)\n",
    "            \n",
    "            mask_path = scene_dict[(model, ibl_file)]\n",
    "            mitsuba_final, mitsuba_final_shadow, pred_shadow = join(cur_output, 'mitsuba_final.exr'), join(cur_output, 'mitsuba_shadow.exr'), join(cur_output, 'predict.png')\n",
    "            \n",
    "            if not os.path.exists(mitsuba_final) or not os.path.exists(mitsuba_final_shadow):\n",
    "                print('{} or {} not exist, skip'.format(mitsuba_final, mitsuba_final_shadow))\n",
    "                pbar.update()\n",
    "                \n",
    "                continue\n",
    "                \n",
    "            mask_np = imageio.imread(join(cur_output, 'mask.png'))\n",
    "            mask_np = mask_np[:,:,0]\n",
    "            if mask_np.dtype == np.uint8:\n",
    "                mask_np = mask_np/255.0\n",
    "                \n",
    "            mitsuba_final_np, mitsuba_final_shadow_np, predict_np = imageio.imread(mitsuba_final), imageio.imread(mitsuba_final_shadow), imageio.imread(pred_shadow)\n",
    "            \n",
    "            # normalize final image\n",
    "            cv2.normalize(mitsuba_final_np, mitsuba_final_np, 0.0, 1.0, cv2.NORM_MINMAX)\n",
    "            cv2.normalize(mitsuba_final_shadow_np, mitsuba_final_shadow_np, 0.0, 1.0, cv2.NORM_MINMAX)\n",
    "#             cv2.normalize(predict_np, predict_np, 0.0, 1.0, cv2.NORM_MINMAX)\n",
    "            predict_np = predict_np/255.0\n",
    "            \n",
    "            # composite our shadow\n",
    "            composite_np = composite_shadow(mask_np, mitsuba_final_np, mitsuba_final_shadow_np)\n",
    "            composite_np = np.clip(composite_np,0.0, 1.0)\n",
    "            plt.imsave(join(cur_output, 'composite.png'), composite_np)\n",
    "            \n",
    "            # composite prediction shadow\n",
    "            composite_np = composite_shadow(mask_np, mitsuba_final_np, 1.0 - predict_np)\n",
    "            composite_np = np.clip(composite_np, 0.0, 1.0)\n",
    "            plt.imsave(join(cur_output, 'composite_pred.png'), composite_np)\n",
    "            \n",
    "            # filp shadow\n",
    "            mistuba_flipped = 1.0 - mitsuba_final_shadow_np\n",
    "            plt.imsave(join(cur_output, 'mitsuba_shaddow_flipped.png'),mistuba_flipped, cmap='gray')\n",
    "            pbar.update()\n",
    "            \n",
    "            if dbg and pbar.n > dbg_num:\n",
    "                break\n",
    "        if dbg:\n",
    "            break"
   ]
  },
  {
   "cell_type": "code",
   "execution_count": null,
   "metadata": {},
   "outputs": [],
   "source": [
    "test_ibl = pattern_generator.get_pattern()\n",
    "show(test_ibl)\n",
    "test_ibl_file = 'test_ibl.png'\n",
    "print(test_ibl.shape)\n",
    "test_ibl = cv2.resize(test_ibl, (32,5))\n",
    "show(test_ibl)\n",
    "imageio.imwrite(test_ibl_file, test_ibl)\n",
    "\n",
    "print()\n",
    "test_ibl_read = imageio.imread(test_ibl_file)\n",
    "show(test_ibl_read)"
   ]
  },
  {
   "cell_type": "code",
   "execution_count": null,
   "metadata": {},
   "outputs": [],
   "source": [
    "test_ibl = '/home/ysheng/Dataset/ibls/real/20050806-03_hd.hdr'\n",
    "ibl = imageio.imread(test_ibl)\n",
    "print(ibl.dtype, np.max(ibl))\n",
    "show(ibl)\n",
    "\n",
    "new_test = 'test.png'\n",
    "imageio.imwrite(new_test, ibl)\n",
    "\n",
    "ibl = imageio.imread(new_test)\n",
    "print(ibl.dtype, np.max(ibl))\n",
    "show(ibl)\n",
    "# test_ibl = '/home/ysheng/Dataset/ibls/pattern/num_19_size_0.01_ibl.png'\n",
    "# ibl = imageio.imread(test_ibl)\n",
    "# print(np.max(ibl))"
   ]
  },
  {
   "cell_type": "code",
   "execution_count": null,
   "metadata": {},
   "outputs": [],
   "source": [
    "relative_folder = 'simulated_combine_female_short_outfits_genesis8_toulouse_formalmegawardrobepreset14_Base_Pose_Standing_C/pattern/num_15_size_0.05_ibl'\n",
    "# mask_file = '/home/ysheng/Dataset/evaluation/simulated_combine_female_short_outfits_audrey_blair_summertimefull_Base_Pose_Walking_A/pattern/num_15_size_0.02_ibl/mask.png'\n",
    "# mitsuba_final = '/home/ysheng/Dataset/evaluation/simulated_combine_female_short_outfits_audrey_blair_summertimefull_Base_Pose_Walking_A/pattern/num_15_size_0.02_ibl/mitsuba_final.exr'\n",
    "# mitsuba_shadow = '/home/ysheng/Dataset/evaluation/simulated_combine_female_short_outfits_audrey_blair_summertimefull_Base_Pose_Walking_A/pattern/num_15_size_0.02_ibl/mitsuba_shadow.exr'\n",
    "\n",
    "evaluation_folder = '/home/ysheng/Dataset/evaluation/'\n",
    "test_ibl_file = '/home/ysheng/Dataset/ibls/pattern/num_15_size_0.05_ibl.png'\n",
    "mask_file = join(evaluation_folder, join(relative_folder,'mask.png')) \n",
    "mitsuba_final = join(evaluation_folder, join(relative_folder,'mitsuba_final.exr')) \n",
    "mitsuba_shadow = join(evaluation_folder, join(relative_folder,'mitsuba_shadow.exr')) \n",
    "net_gt_path = join(evaluation_folder, join(relative_folder, 'gt.png'))\n",
    "        \n",
    "ibl_np = imageio.imread(test_ibl_file)\n",
    "if ibl_np.dtype == np.uint8:\n",
    "    ibl_np = ibl_np/255.0\n",
    "\n",
    "show(ibl_np)\n",
    "\n",
    "# mask_np = np.load(mask_file)\n",
    "mask_np = imageio.imread(mask_file)\n",
    "mask_np = mask_np[:,:,0]/255.0\n",
    "\n",
    "mitsuab_final_np = imageio.imread(mitsuba_final)\n",
    "mitsuba_shadow_np = imageio.imread(mitsuba_shadow)\n",
    "cv2.normalize(mitsuab_final_np, mitsuab_final_np, 0.0, 1.0, cv2.NORM_MINMAX)\n",
    "# cv2.normalize(mitsuba_shadow_np, mitsuba_shadow_np, 0.0, 1.0, cv2.NORM_MINMAX)\n",
    "\n",
    "print('final min: {} max:{}'.format(np.min(mitsuab_final_np), np.max(mitsuab_final_np)))\n",
    "print('shadow min: {} max:{}'.format(np.min(mitsuba_shadow_np), np.max(mitsuba_shadow_np)))\n",
    "\n",
    "net_gt_np = plt.imread(net_gt_path)\n",
    "\n",
    "fig = plt.figure(figsize=(30,20))\n",
    "plt.subplot(1, 3, 1)\n",
    "plt.imshow(net_gt_np)\n",
    "\n",
    "plt.subplot(1, 3, 2)\n",
    "plt.imshow(1.0-mitsuba_shadow_np)\n",
    "\n",
    "plt.subplot(1, 3, 3)\n",
    "plt.imshow(mitsuab_final_np)"
   ]
  },
  {
   "cell_type": "code",
   "execution_count": null,
   "metadata": {},
   "outputs": [],
   "source": [
    "model = 'simulated_combine_female_short_outfits_audrey_blair_summertimefull_Base_Pose_Walking_A'\n",
    "ibl_file = '/home/ysheng/Dataset/ibls/pattern/num_15_size_0.05_ibl.png'\n",
    "\n",
    "mask_path = scene_dict[(model, ibl_file)]\n",
    "mask_np = plt.imread(mask_path)\n",
    "show(mask_np)\n",
    "\n",
    "mitsuba_shadow = join(evaluation_folder, join(relative_folder,'mitsuba_shadow.exr')) \n",
    "net_gt_path = join(evaluation_folder, join(relative_folder, 'gt.png'))\n",
    "\n",
    "net_gt(mask_path, ibl_file, net_gt_path)\n",
    "net_gt_np = plt.imread(net_gt_path)\n",
    "\n",
    "fig = plt.figure(figsize=(30,20))\n",
    "plt.subplot(1, 3, 1)\n",
    "plt.imshow(net_gt_np)\n",
    "\n",
    "plt.subplot(1, 3, 2)\n",
    "plt.imshow(1.0-mitsuba_shadow_np)\n",
    "\n",
    "plt.subplot(1, 3, 3)\n",
    "plt.imshow(mitsuab_final_np)"
   ]
  },
  {
   "cell_type": "code",
   "execution_count": null,
   "metadata": {},
   "outputs": [],
   "source": [
    "import torch \n",
    "import torch.nn as nn\n",
    "import torch.nn.functional as F\n",
    "from params import params"
   ]
  },
  {
   "cell_type": "code",
   "execution_count": null,
   "metadata": {},
   "outputs": [],
   "source": [
    "class PSPUpsample(nn.Module):\n",
    "    def __init__(self, in_channels, out_channels):\n",
    "        super().__init__()\n",
    "        self.conv = Conv(in_channels, out_channels)\n",
    "\n",
    "    def forward(self, x):\n",
    "        h, w = 2 * x.size(2), 2 * x.size(3)\n",
    "        p = F.upsample(input=x, size=(h, w), mode='bilinear')\n",
    "        return self.conv(p)\n",
    "\n",
    "class PSP(nn.Module):\n",
    "    def __init__(self, in_channels, size=[2,4,8,16]):\n",
    "        super().__init__()\n",
    "        self.feats = getattr(extractors, backend)(pretrained)\n",
    "        self.psp = PSPModule(psp_size, 1024, sizes)\n",
    "\n",
    "        each_in = in_channels // len(size)\n",
    "        self.up_1 = PSPUpsample(1024, 256)\n",
    "        self.up_2 = PSPUpsample(256, 64)\n",
    "        self.up_3 = PSPUpsample(64, 64)\n",
    "\n",
    "        self.drop_2 = nn.Dropout2d(p=0.15)\n",
    "        self.final = nn.Sequential(\n",
    "            nn.Conv2d(64, n_classes, kernel_size=1),\n",
    "            nn.LogSoftmax()\n",
    "        )\n",
    "\n",
    "        self.classifier = nn.Sequential(\n",
    "            nn.Linear(deep_features_size, 256),\n",
    "            nn.ReLU(),\n",
    "            nn.Linear(256, n_classes)\n",
    "        )\n",
    "\n",
    "    def forward(self, x):\n",
    "        f, class_f = self.feats(x) \n",
    "        p = self.psp(f)\n",
    "        p = self.drop_1(p)\n",
    "\n",
    "        p = self.up_1(p)\n",
    "        p = self.drop_2(p)\n",
    "\n",
    "        p = self.up_2(p)\n",
    "        p = self.drop_2(p)\n",
    "\n",
    "        p = self.up_3(p)\n",
    "        p = self.drop_2(p)\n",
    "\n",
    "        auxiliary = F.adaptive_max_pool2d(input=class_f, output_size=(1, 1)).view(-1, class_f.size(1))\n",
    "\n",
    "        return self.final(p), self.classifier(auxiliary)"
   ]
  }
 ],
 "metadata": {
  "kernelspec": {
   "display_name": "Python 3",
   "language": "python",
   "name": "python3"
  },
  "language_info": {
   "codemirror_mode": {
    "name": "ipython",
    "version": 3
   },
   "file_extension": ".py",
   "mimetype": "text/x-python",
   "name": "python",
   "nbconvert_exporter": "python",
   "pygments_lexer": "ipython3",
   "version": "3.7.7"
  }
 },
 "nbformat": 4,
 "nbformat_minor": 4
}
