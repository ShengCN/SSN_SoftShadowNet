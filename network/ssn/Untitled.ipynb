{
 "cells": [
  {
   "cell_type": "code",
   "execution_count": 1,
   "metadata": {},
   "outputs": [],
   "source": [
    "%load_ext autoreload\n",
    "%autoreload 2"
   ]
  },
  {
   "cell_type": "code",
   "execution_count": 3,
   "metadata": {},
   "outputs": [
    {
     "ename": "ImportError",
     "evalue": "attempted relative import with no known parent package",
     "output_type": "error",
     "traceback": [
      "\u001b[0;31m---------------------------------------------------------------------------\u001b[0m",
      "\u001b[0;31mImportError\u001b[0m                               Traceback (most recent call last)",
      "\u001b[0;32m<ipython-input-3-4ae0119d739d>\u001b[0m in \u001b[0;36m<module>\u001b[0;34m\u001b[0m\n\u001b[1;32m      2\u001b[0m \u001b[0;32mimport\u001b[0m \u001b[0mtorch\u001b[0m\u001b[0;34m.\u001b[0m\u001b[0mnn\u001b[0m \u001b[0;32mas\u001b[0m \u001b[0mnn\u001b[0m\u001b[0;34m\u001b[0m\u001b[0;34m\u001b[0m\u001b[0m\n\u001b[1;32m      3\u001b[0m \u001b[0;32mimport\u001b[0m \u001b[0mtorch\u001b[0m\u001b[0;34m.\u001b[0m\u001b[0mnn\u001b[0m\u001b[0;34m.\u001b[0m\u001b[0mfunctional\u001b[0m \u001b[0;32mas\u001b[0m \u001b[0mF\u001b[0m\u001b[0;34m\u001b[0m\u001b[0;34m\u001b[0m\u001b[0m\n\u001b[0;32m----> 4\u001b[0;31m \u001b[0;32mfrom\u001b[0m \u001b[0mssn\u001b[0m \u001b[0;32mimport\u001b[0m \u001b[0mRelight_SSN\u001b[0m\u001b[0;34m\u001b[0m\u001b[0;34m\u001b[0m\u001b[0m\n\u001b[0m",
      "\u001b[0;32m~/Documents/soft_shadow/ssn/ssn.py\u001b[0m in \u001b[0;36m<module>\u001b[0;34m\u001b[0m\n\u001b[1;32m      3\u001b[0m \u001b[0;32mimport\u001b[0m \u001b[0mtorch\u001b[0m\u001b[0;34m.\u001b[0m\u001b[0mnn\u001b[0m\u001b[0;34m.\u001b[0m\u001b[0mfunctional\u001b[0m \u001b[0;32mas\u001b[0m \u001b[0mF\u001b[0m\u001b[0;34m\u001b[0m\u001b[0;34m\u001b[0m\u001b[0m\n\u001b[1;32m      4\u001b[0m \u001b[0;34m\u001b[0m\u001b[0m\n\u001b[0;32m----> 5\u001b[0;31m \u001b[0;32mfrom\u001b[0m \u001b[0;34m.\u001b[0m\u001b[0mssn_submodule\u001b[0m \u001b[0;32mimport\u001b[0m \u001b[0mConv\u001b[0m\u001b[0;34m,\u001b[0m \u001b[0mUp\u001b[0m\u001b[0;34m,\u001b[0m \u001b[0mUp_Stream\u001b[0m\u001b[0;34m,\u001b[0m \u001b[0mget_layer_info\u001b[0m\u001b[0;34m\u001b[0m\u001b[0;34m\u001b[0m\u001b[0m\n\u001b[0m\u001b[1;32m      6\u001b[0m \u001b[0;32mfrom\u001b[0m \u001b[0mparams\u001b[0m \u001b[0;32mimport\u001b[0m \u001b[0mparams\u001b[0m\u001b[0;34m\u001b[0m\u001b[0;34m\u001b[0m\u001b[0m\n\u001b[1;32m      7\u001b[0m \u001b[0;34m\u001b[0m\u001b[0m\n",
      "\u001b[0;31mImportError\u001b[0m: attempted relative import with no known parent package"
     ]
    }
   ],
   "source": [
    "import torch\n",
    "import torch.nn as nn\n",
    "import torch.nn.functional as F\n",
    "from ssn import Relight_SSN"
   ]
  },
  {
   "cell_type": "code",
   "execution_count": null,
   "metadata": {},
   "outputs": [],
   "source": [
    "\n",
    "def baseline_2_tbaseline(model):\n",
    "    \"\"\" change input layer to be two channels\n",
    "    \"\"\"\n",
    "    input_channel = 2\n",
    "    tbase_inlayer = nn.Sequential(\n",
    "        nn.Conv2d(input_channel, 32 - input_channel, kernel_size=7, padding=3, bias=True),\n",
    "        nn.GroupNorm(1, 32 - input_channel),\n",
    "        nn.ReLU()\n",
    "    )\n",
    "    model.in_conv = tbase_inlayer\n",
    "    return model\n",
    "    \n",
    "def baseline_2_touchloss(model):\n",
    "    \"\"\" change output layer to be two channels\n",
    "    \"\"\"\n",
    "    touchless_outlayer = nn.Sequential(\n",
    "        nn.Conv2d(64, 2, stride=1, kernel_size=3, padding=1, bias=True),\n",
    "        nn.GroupNorm(32, 2),\n",
    "        nn.ReLU()\n",
    "    )\n",
    "    model.ty.out_conv = touchless_outlayer\n",
    "    return model\n",
    "\n",
    "mask_test, touch_test = torch.zeros((1,1,256,256)), torch.zeros((1,1,256,256))\n",
    "I_s = mask_test\n",
    "baseline = Relight_SSN(1, 1)\n",
    "baseline_output,_ = baseline(I_s)\n",
    "\n",
    "tbaseline = baseline_2_tbaseline(baseline.copy())\n",
    "I_s = torch.cat((mask_test, touch_test), axis=1)\n",
    "tbaseline_output,_ = tbaseline(I_s)\n",
    "\n",
    "t_loss_baseline = baseline_2_touchloss(baseline.copy())\n",
    "I_s = mask_test\n",
    "tloss_output,_ = t_loss_baseline(I_s)\n",
    "\n",
    "print('baseline output: ',baseline_output.shape)\n",
    "print('tbaseline output: ',tbaseline_output.shape)\n",
    "print('tloss output: ',tloss_output.shape)"
   ]
  },
  {
   "cell_type": "code",
   "execution_count": null,
   "metadata": {},
   "outputs": [],
   "source": []
  }
 ],
 "metadata": {
  "kernelspec": {
   "display_name": "Python 3",
   "language": "python",
   "name": "python3"
  },
  "language_info": {
   "codemirror_mode": {
    "name": "ipython",
    "version": 3
   },
   "file_extension": ".py",
   "mimetype": "text/x-python",
   "name": "python",
   "nbconvert_exporter": "python",
   "pygments_lexer": "ipython3",
   "version": "3.7.7"
  }
 },
 "nbformat": 4,
 "nbformat_minor": 4
}
